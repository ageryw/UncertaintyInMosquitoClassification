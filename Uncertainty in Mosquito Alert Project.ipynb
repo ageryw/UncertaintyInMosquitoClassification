{
  "nbformat": 4,
  "nbformat_minor": 0,
  "metadata": {
    "colab": {
      "name": "Untitled0.ipynb",
      "provenance": [],
      "authorship_tag": "ABX9TyNslL+BRzwvtlbSdWLFyE1+",
      "include_colab_link": true
    },
    "kernelspec": {
      "name": "python3",
      "display_name": "Python 3"
    },
    "language_info": {
      "name": "python"
    }
  },
  "cells": [
    {
      "cell_type": "markdown",
      "metadata": {
        "id": "view-in-github",
        "colab_type": "text"
      },
      "source": [
        "<a href=\"https://colab.research.google.com/github/ageryw/UncertaintyInMosquitoClassification/blob/main/Uncertainty%20in%20Mosquito%20Alert%20Project.ipynb\" target=\"_parent\"><img src=\"https://colab.research.google.com/assets/colab-badge.svg\" alt=\"Open In Colab\"/></a>"
      ]
    },
    {
      "cell_type": "markdown",
      "metadata": {
        "id": "JyEJZxXJ4Yz-"
      },
      "source": [
        "# **VGG 16**\n",
        "---"
      ]
    },
    {
      "cell_type": "markdown",
      "metadata": {
        "id": "VjeJFW6lGkQ9"
      },
      "source": [
        "## **Train**"
      ]
    },
    {
      "cell_type": "code",
      "metadata": {
        "id": "W9wZxfHR4if9"
      },
      "source": [
        "#For Pretrained VGG Model\n",
        "import warnings\n",
        "warnings.filterwarnings(\"ignore\")\n",
        "\n",
        "import numpy as np\n",
        "import pandas as pd\n",
        "import time\n",
        "import h5py\n",
        "from scipy.ndimage.interpolation import rotate\n",
        "\n",
        "import matplotlib\n",
        "import matplotlib.pyplot as plt\n",
        "import matplotlib.image as mpimg\n",
        "import matplotlib.gridspec as gridspec\n",
        "\n",
        "import seaborn as sns\n",
        "%matplotlib inline\n",
        "\n",
        "import torch\n",
        "import torchvision\n",
        "from torchvision import datasets, models, transforms\n",
        "from torch.autograd import Variable\n",
        "import torch.nn as nn\n",
        "import torch.nn.functional as F\n",
        "import torch.optim as optim\n",
        "from torch.utils.data.sampler import SubsetRandomSampler\n",
        "from torch.optim import lr_scheduler\n",
        "import os\n",
        "import copy"
      ],
      "execution_count": null,
      "outputs": []
    },
    {
      "cell_type": "code",
      "metadata": {
        "id": "nmDaXwgs4igA"
      },
      "source": [
        "!unzip Mosq.zip\n",
        "!rm Mosq.zip"
      ],
      "execution_count": null,
      "outputs": []
    },
    {
      "cell_type": "code",
      "metadata": {
        "id": "MujQSem-4igB"
      },
      "source": [
        "!mv  Mosq/val  Mosq/test"
      ],
      "execution_count": null,
      "outputs": []
    },
    {
      "cell_type": "code",
      "metadata": {
        "id": "sk_xM_fp4igD"
      },
      "source": [
        "loss_ = []\n",
        "test_accuracy = []\n",
        "test_error = []"
      ],
      "execution_count": null,
      "outputs": []
    },
    {
      "cell_type": "code",
      "metadata": {
        "id": "H8A-SfCy4igE"
      },
      "source": [
        "# Data augmentation and normalization for training\n",
        "# Just normalization for validation\n",
        "data_transforms = {\n",
        "    'train': transforms.Compose([\n",
        "        transforms.RandomResizedCrop(224),\n",
        "        transforms.RandomHorizontalFlip(),\n",
        "        transforms.ToTensor(),\n",
        "        transforms.Normalize([0.485, 0.456, 0.406], [0.229, 0.224, 0.225])\n",
        "    ]),\n",
        "    'test': transforms.Compose([\n",
        "        transforms.Resize([224, 224]),\n",
        "        transforms.ToTensor(),\n",
        "        transforms.Normalize(mean=[0.485, 0.456, 0.406], std=[0.229, 0.224, 0.225])\n",
        "    ]),\n",
        "}\n",
        "\n",
        "data_dir = 'Mosq/'\n",
        "image_datasets = {x: datasets.ImageFolder(os.path.join(data_dir, x),\n",
        "                                          data_transforms[x])\n",
        "                  for x in ['train', 'test']}\n",
        "dataloaders = {x: torch.utils.data.DataLoader(image_datasets[x], batch_size=32,\n",
        "                                             shuffle=True, num_workers=4)\n",
        "              for x in ['train', 'test']}\n",
        "dataset_sizes = {x: len(image_datasets[x]) for x in ['train', 'test']}\n",
        "class_names = image_datasets['train'].classes\n",
        "\n",
        "device = torch.device(\"cuda:0\" if torch.cuda.is_available() else \"cpu\")"
      ],
      "execution_count": null,
      "outputs": []
    },
    {
      "cell_type": "code",
      "metadata": {
        "id": "skKYFaAtu4H8"
      },
      "source": [
        "from torch.utils.tensorboard import SummaryWriter\n",
        "from math import sqrt\n",
        "\n",
        "def train_model(model, criterion, optimizer, scheduler, num_epochs=25):\n",
        "    since = time.time()\n",
        "\n",
        "    best_model_wts = copy.deepcopy(model.state_dict())\n",
        "    best_acc = 0.0\n",
        "\n",
        "    for epoch in range(num_epochs):\n",
        "        print('Epoch {}/{}'.format(epoch, num_epochs - 1))\n",
        "        print('-' * 10)\n",
        "\n",
        "        # Each epoch has a training and validation phase\n",
        "        for phase in ['train', 'test']:\n",
        "            if phase == 'train':\n",
        "                model.train()  # Set model to training mode\n",
        "            else:\n",
        "                model.eval()   # Set model to evaluate mode\n",
        "\n",
        "            running_loss = 0.0\n",
        "            running_corrects = 0\n",
        "\n",
        "            # Iterate over data.\n",
        "            for inputs, labels in dataloaders[phase]:\n",
        "                inputs = inputs.to(device)\n",
        "                labels = labels.to(device)\n",
        "\n",
        "                # zero the parameter gradients\n",
        "                optimizer.zero_grad()\n",
        "\n",
        "                # forward\n",
        "                # track history if only in train\n",
        "                with torch.set_grad_enabled(phase == 'train'):\n",
        "                    outputs = model(inputs)\n",
        "                    _, preds = torch.max(outputs, 1)\n",
        "                    loss = criterion(outputs, labels)\n",
        "\n",
        "                    # backward + optimize only if in training phase\n",
        "                    if phase == 'train':\n",
        "                        loss.backward()\n",
        "                        optimizer.step()\n",
        "                # statistics\n",
        "                running_loss += loss.item() * inputs.size(0)\n",
        "                running_corrects += torch.sum(preds == labels.data)\n",
        "            if phase == 'train':\n",
        "                scheduler.step()\n",
        "            \n",
        "            epoch_loss = running_loss / dataset_sizes[phase]\n",
        "            epoch_acc = running_corrects.double() / dataset_sizes[phase]\n",
        "            print('{} Loss: {:.4f} Acc: {:.4f}'.format(\n",
        "                phase, epoch_loss, epoch_acc))\n",
        "\n",
        "            if phase == 'test':\n",
        "                test_accuracy.append(epoch_acc)\n",
        "                test_error.append(int(dataset_sizes[phase]*(1-test_accuracy[-1])))\n",
        "                loss_.append(epoch_loss)\n",
        "                print('Test error: {}; test accuracy: {}'.format(test_error[-1], test_accuracy[-1]))\n",
        "\n",
        "            if phase == 'test' and epoch_acc > best_acc:\n",
        "                best_acc = epoch_acc\n",
        "                best_model_wts = copy.deepcopy(model.state_dict())\n",
        "\n",
        "        print()\n",
        "\n",
        "    time_elapsed = time.time() - since\n",
        "    print('Training complete in {:.0f}m {:.0f}s'.format(\n",
        "        time_elapsed // 60, time_elapsed % 60))\n",
        "    print('Best val Acc: {:4f}'.format(best_acc))\n",
        "\n",
        "    #load best model weights\n",
        "    model.load_state_dict(best_model_wts)\n",
        "    return model"
      ],
      "execution_count": null,
      "outputs": []
    },
    {
      "cell_type": "code",
      "metadata": {
        "id": "Qe5llUSXJK6g"
      },
      "source": [
        "# Train the model\n",
        "net_trained = train_model(net_trained, criterion, optimizer_ft, exp_lr_scheduler, num_epochs=25)\n",
        "torch.save(net_trained,'model1.h5')"
      ],
      "execution_count": null,
      "outputs": []
    },
    {
      "cell_type": "code",
      "metadata": {
        "id": "3AbgRm6abdaS"
      },
      "source": [
        "testa = []\n",
        "for i, val in enumerate(test_accuracy):\n",
        "  testa.append(val.item())\n",
        "\n",
        "print(test_error)\n",
        "print(loss_)\n",
        "print(testa)"
      ],
      "execution_count": null,
      "outputs": []
    },
    {
      "cell_type": "code",
      "metadata": {
        "id": "kOKZXoR1BYvw"
      },
      "source": [
        "model_ft = models.vgg16(pretrained=True)\n",
        "feats_list = list(model_ft.features)\n",
        "new_feats_list = []\n",
        "for feat in feats_list:\n",
        "    new_feats_list.append(feat)\n",
        "    if isinstance(feat, nn.Conv2d):\n",
        "        new_feats_list.append(nn.Dropout(p=0.5, inplace=True))\n",
        "# modify convolution layers\n",
        "model_ft.features = nn.Sequential(*new_feats_list)\n",
        "model_ft.classifier[2] = nn.Dropout (p = 0.4)\n",
        "model_ft.classifier[5] = nn.Dropout (p = 0.4)\n",
        "num_ftrs = model_ft.classifier[6].in_features\n",
        "# Here the size of each output sample is set to 2.\n",
        "# Alternatively, it can be generalized to nn.Linear(num_ftrs, len(class_names)).\n",
        "model_ft.classifier[6] = nn.Linear(num_ftrs, 2)\n",
        "model_ft = model_ft.to(device)\n",
        "criterion = nn.CrossEntropyLoss()\n",
        "# Observe that all parameters are being optimized\n",
        "optimizer_ft = optim.SGD(model_ft.parameters(), lr=0.001, momentum=0.9)\n",
        "# Decay LR by a factor of 0.1 every 7 epochs\n",
        "exp_lr_scheduler = lr_scheduler.StepLR(optimizer_ft, step_size=7, gamma=0.1)\n"
      ],
      "execution_count": null,
      "outputs": []
    },
    {
      "cell_type": "code",
      "metadata": {
        "id": "hX_PyNcmrkpr"
      },
      "source": [
        "model_ft"
      ],
      "execution_count": null,
      "outputs": []
    },
    {
      "cell_type": "code",
      "metadata": {
        "id": "SerB2t7wjne_"
      },
      "source": [
        "# Train the model\n",
        "net_trained = train_model(model_ft, criterion, optimizer_ft, exp_lr_scheduler, num_epochs=25)\n",
        "torch.save(model_ft,'model2.h5')"
      ],
      "execution_count": null,
      "outputs": []
    },
    {
      "cell_type": "code",
      "metadata": {
        "id": "NgwqJGOaimA7"
      },
      "source": [
        "model_ft1 = models.vgg16(pretrained=True)\n",
        "feats_list = list(model_ft1.features)\n",
        "new_feats_list = []\n",
        "i=0\n",
        "for feat in feats_list:\n",
        "    new_feats_list.append(feat)\n",
        "    if isinstance(feat, nn.Conv2d) and i == 0:\n",
        "        new_feats_list.append(nn.Dropout(p=0.1, inplace=True))\n",
        "        i += 1\n",
        "    elif isinstance(feat, nn.Conv2d):\n",
        "        new_feats_list.append(nn.Dropout(p=0.5, inplace=True))\n",
        "        i += 1\n",
        "# modify convolution layers\n",
        "model_ft1.features = nn.Sequential(*new_feats_list)\n",
        "#num_ftrs = model_ft.classifier[0].out_features\n",
        "model_ft1.classifier[2] = nn.Dropout (p = 0.1)\n",
        "model_ft1.classifier[5] = nn.Dropout (p = 0.1)\n",
        "num_ftrs = model_ft1.classifier[6].in_features\n",
        "# Here the size of each output sample is set to 2.\n",
        "# Alternatively, it can be generalized to nn.Linear(num_ftrs, len(class_names)).\n",
        "model_ft1.classifier[6] = nn.Linear(num_ftrs, 2)\n",
        "model_ft1 = model_ft1.to(device)\n",
        "criterion = nn.CrossEntropyLoss()\n",
        "# Observe that all parameters are being optimized\n",
        "optimizer_ft = optim.SGD(model_ft1.parameters(), lr=0.001, momentum=0.9)\n",
        "# Decay LR by a factor of 0.1 every 7 epochs\n",
        "exp_lr_scheduler = lr_scheduler.StepLR(optimizer_ft, step_size=7, gamma=0.1)"
      ],
      "execution_count": null,
      "outputs": []
    },
    {
      "cell_type": "code",
      "metadata": {
        "id": "P_uXJipLBzGo"
      },
      "source": [
        "# Train the model\n",
        "model_ft1 = train_model(model_ft1, criterion, optimizer_ft, exp_lr_scheduler, num_epochs=25)\n",
        "torch.save(model_ft1,'model4.h5')"
      ],
      "execution_count": null,
      "outputs": []
    },
    {
      "cell_type": "markdown",
      "metadata": {
        "id": "RmukxQRTvq-9"
      },
      "source": [
        "## **Cross-Val**"
      ]
    },
    {
      "cell_type": "code",
      "metadata": {
        "id": "UG0mcPsTvwpE"
      },
      "source": [
        "# Configuration options\n",
        "k_folds = 5\n",
        "num_epochs = 25\n",
        "criterion = nn.CrossEntropyLoss()\n",
        "\n",
        "# For fold results\n",
        "results = {}\n",
        "\n",
        "# Set fixed random number seed\n",
        "torch.manual_seed(42)\n",
        "data_transforms = transforms.Compose([\n",
        "    transforms.RandomResizedCrop(224),\n",
        "    transforms.RandomHorizontalFlip(),\n",
        "    transforms.ToTensor(),\n",
        "    transforms.Normalize([0.485, 0.456, 0.406], [0.229, 0.224, 0.225])\n",
        "])\n",
        "\n",
        "data_dir = 'Mosq/'\n",
        "dataset = datasets.ImageFolder(data_dir, data_transforms)\n",
        "device = torch.device(\"cuda:0\" if torch.cuda.is_available() else \"cpu\")\n",
        "# Define the K-fold Cross Validator\n",
        "kfold = KFold(n_splits=k_folds, shuffle=True)\n",
        "  \n",
        "# Start print\n",
        "print('--------------------------------')\n",
        "\n",
        "# K-fold Cross Validation model evaluation\n",
        "for fold, (train_ids, test_ids) in enumerate(kfold.split(dataset)):\n",
        "  \n",
        "  # Print\n",
        "  print(f'FOLD {fold}')\n",
        "  print('--------------------------------')\n",
        "  \n",
        "  # Sample elements randomly from a given list of ids, no replacement.\n",
        "  train_subsampler = torch.utils.data.SubsetRandomSampler(train_ids)\n",
        "  test_subsampler = torch.utils.data.SubsetRandomSampler(test_ids)\n",
        "  \n",
        "  # Define data loaders for training and testing data in this fold\n",
        "  trainloader = torch.utils.data.DataLoader(\n",
        "                    dataset, \n",
        "                    batch_size=64, sampler=train_subsampler)\n",
        "  testloader = torch.utils.data.DataLoader(\n",
        "                    dataset,\n",
        "                    batch_size=64, sampler=test_subsampler)\n",
        "  \n",
        "  # Init the neural network\n",
        "  model_ft = models.vgg16(pretrained=True)\n",
        "  feats_list = list(model_ft.features)\n",
        "  new_feats_list = []\n",
        "  for feat in feats_list:\n",
        "      new_feats_list.append(feat)\n",
        "      if isinstance(feat, nn.Conv2d):\n",
        "          new_feats_list.append(nn.Dropout(p=0.5, inplace=True))\n",
        "  # modify convolution layers\n",
        "  model_ft.features = nn.Sequential(*new_feats_list)\n",
        "  model_ft.classifier[2] = nn.Dropout (p = 0.4)\n",
        "  model_ft.classifier[5] = nn.Dropout (p = 0.4)\n",
        "  num_ftrs = model_ft.classifier[6].in_features\n",
        "  # Here the size of each output sample is set to 2.\n",
        "  # Alternatively, it can be generalized to nn.Linear(num_ftrs, len(class_names)).\n",
        "  model_ft.classifier[6] = nn.Linear(num_ftrs, 2)\n",
        "  model_ft = model_ft.to(device)\n",
        "  # Observe that all parameters are being optimized\n",
        "  optimizer_ft = optim.SGD(model_ft.parameters(), lr=0.001, momentum=0.9)\n",
        "  # Decay LR by a factor of 0.1 every 7 epochs\n",
        "  #exp_lr_scheduler = lr_scheduler.StepLR(optimizer_ft, step_size=5, gamma=0.1)\n",
        "  #optimizer = torch.optim.Adam(network.parameters(), lr=1e-4)\n",
        "  # Run the training loop for defined number of epochs\n",
        "  for epoch in range(0, num_epochs):\n",
        "    # Print epoch\n",
        "    print(f'Starting epoch {epoch+1}')\n",
        "    # Set current loss value\n",
        "    current_loss = 0.0\n",
        "    # Iterate over the DataLoader for training data\n",
        "    for i, data in enumerate(trainloader):\n",
        "      # Get inputs\n",
        "      inputs, targets = data  \n",
        "      inputs, targets = inputs.cuda(), targets.cuda()    \n",
        "      # Zero the gradients\n",
        "      optimizer_ft.zero_grad()     \n",
        "      # Perform forward pass\n",
        "      outputs = model_ft(inputs)   \n",
        "      # Compute loss\n",
        "      loss = criterion(outputs, targets)  \n",
        "      # Perform backward pass\n",
        "      loss.backward()  \n",
        "      # Perform optimization\n",
        "      optimizer_ft.step()\n",
        "      # Print statistics\n",
        "      current_loss += loss.item()\n",
        "      #if i % 500 == 499:\n",
        "  print(f'Loss: {current_loss/len(trainloader)}')\n",
        "  #current_loss = 0.0\n",
        "          \n",
        "  # Process is complete.\n",
        "  print('Training process has finished. Saving trained model.')\n",
        "  # Print about testing\n",
        "  print('Starting testing')\n",
        "  # Saving the model\n",
        "  save_path = f'./model-fold-{fold}.pth'\n",
        "  torch.save(model_ft.state_dict(), save_path)\n",
        "\n",
        "  # Evaluationfor this fold\n",
        "  correct, total = 0, 0\n",
        "  with torch.no_grad():\n",
        "\n",
        "    # Iterate over the test data and generate predictions\n",
        "    for i, data in enumerate(testloader, 0):\n",
        "\n",
        "      # Get inputs\n",
        "      inputs, targets = data\n",
        "      inputs, targets = inputs.cuda(), targets.cuda() \n",
        "      # Generate outputs\n",
        "      outputs = model_ft(inputs)\n",
        "\n",
        "      # Set total and correct\n",
        "      _, predicted = torch.max(outputs.data, 1)\n",
        "      total += targets.size(0)\n",
        "      correct += (predicted == targets).sum().item()\n",
        "\n",
        "    # Print accuracy\n",
        "    print('Accuracy for fold %d: %d %%' % (fold, 100.0 * correct / total))\n",
        "    print('--------------------------------')\n",
        "    results[fold] = 100.0 * (correct / total)\n",
        "  \n",
        "# Print fold results\n",
        "print(f'K-FOLD CROSS VALIDATION RESULTS FOR {k_folds} FOLDS')\n",
        "print('--------------------------------')\n",
        "sum = 0.0\n",
        "for key, value in results.items():\n",
        "  print(f'Fold {key}: {value} %')\n",
        "  sum += value\n",
        "print(f'Average: {sum/len(results.items())} %')"
      ],
      "execution_count": null,
      "outputs": []
    },
    {
      "cell_type": "markdown",
      "metadata": {
        "id": "rdFaaQ3G5Pn0"
      },
      "source": [
        "## **Scatter Plot**"
      ]
    },
    {
      "cell_type": "code",
      "metadata": {
        "id": "GIa3nziU5j3B"
      },
      "source": [
        "def predict_class(model, X):\n",
        "    model = model.eval()\n",
        "    outputs = model(Variable(X))\n",
        "    _, pred = torch.max(outputs.data, 1)\n",
        "    model = model.train()\n",
        "    return pred.numpy()\n",
        "\n",
        "def predict(model, X, T=100):\n",
        "    standard_pred = predict_class(model, X)\n",
        "    y1 = []\n",
        "    y2 = []\n",
        "    for _ in range(T):\n",
        "        _y1 = model(Variable(X))\n",
        "        _y2 = F.softmax(_y1, dim=1)\n",
        "        y1.append(_y1.data.numpy())\n",
        "        y2.append(_y2.data.numpy())\n",
        "    return standard_pred, np.array(y1), np.array(y2)"
      ],
      "execution_count": null,
      "outputs": []
    },
    {
      "cell_type": "code",
      "metadata": {
        "id": "2_IRK-dQ5j3V"
      },
      "source": [
        "data_transforms = {\n",
        "    'test': transforms.Compose([\n",
        "        transforms.Resize([224, 224]),\n",
        "        transforms.ToTensor(),\n",
        "        transforms.Normalize(mean=[0.485, 0.456, 0.406], std=[0.229, 0.224, 0.225])\n",
        "    ]),\n",
        "}\n",
        "data_dir = 'Mosq/'\n",
        "\n",
        "image_datasets = {x: datasets.ImageFolder(os.path.join(data_dir, x), data_transforms[x])\n",
        "                    for x in ['test']}\n",
        "dataloaders = {x: torch.utils.data.DataLoader(image_datasets[x], batch_size=64,\n",
        "                  shuffle=True, num_workers=4) for x in ['test']}\n",
        "dataset_sizes = {x: len(image_datasets[x]) for x in ['test']}\n",
        "\n",
        "device = torch.device(\"cuda:0\" if torch.cuda.is_available() else \"cpu\")"
      ],
      "execution_count": null,
      "outputs": []
    },
    {
      "cell_type": "code",
      "metadata": {
        "colab": {
          "base_uri": "https://localhost:8080/",
          "height": 165
        },
        "id": "_ACjnQIU5j3W",
        "outputId": "e4acee39-99b4-407e-ff17-c679b0f011fb"
      },
      "source": [
        "def imshow(inp, title=None):\n",
        "    \"\"\"Imshow for Tensor.\"\"\"\n",
        "    inp = inp.numpy().transpose((1, 2, 0))\n",
        "    mean = np.array([0.485, 0.456, 0.406])\n",
        "    std = np.array([0.229, 0.224, 0.225])\n",
        "    inp = std * inp + mean\n",
        "    inp = np.clip(inp, 0, 1)\n",
        "    plt.imshow(inp)\n",
        "    if title is not None:\n",
        "        plt.title(title)\n",
        "    plt.pause(0.001) # pause a bit so that plots are updated\n",
        "\n",
        "# Get a batch of training data\n",
        "testloader = torch.utils.data.DataLoader(image_datasets['test'], batch_size=10, shuffle=True)\n",
        "X_test, y_test = next(iter(testloader))\n",
        "class_names = image_datasets['test'].classes\n",
        "# Make a grid from batch\n",
        "out = torchvision.utils.make_grid(X_test)\n",
        "imshow(out, title=[x.item() for x in y_test]) \n",
        "print(f'Image Classes: {[x.item() for x in y_test]}')"
      ],
      "execution_count": null,
      "outputs": [
        {
          "output_type": "display_data",
          "data": {
            "image/png": "[encoded data removed]",
            "text/plain": [
              "<Figure size 432x288 with 1 Axes>"
            ]
          },
          "metadata": {
            "tags": [],
            "needs_background": "light"
          }
        },
        {
          "output_type": "stream",
          "text": [
            "Image Classes: [1, 0, 1, 0, 1, 1, 1, 1, 0, 1]\n"
          ],
          "name": "stdout"
        }
      ]
    },
    {
      "cell_type": "code",
      "metadata": {
        "colab": {
          "base_uri": "https://localhost:8080/"
        },
        "id": "sB7c0RK-5j3Z",
        "outputId": "96ce31dc-ce7a-4db0-f507-89e24a499704"
      },
      "source": [
        "vgg1_models = torch.load('model1.h5',map_location={'cuda:0': 'cpu'})\n",
        "model = vgg1_models\n",
        "#model = vgg2_models\n",
        "# Need to flatten X1 before feeding into MLP\n",
        "X1 = np.array(X_test)\n",
        "y1_pred, y1_si, y1_so = predict(model, torch.from_numpy(X1))\n",
        "print('Predictions: {}'.format(y1_pred))"
      ],
      "execution_count": null,
      "outputs": [
        {
          "output_type": "stream",
          "text": [
            "Predictions: [1 0 1 0 1 1 1 0 1 1]\n"
          ],
          "name": "stdout"
        }
      ]
    },
    {
      "cell_type": "code",
      "metadata": {
        "colab": {
          "base_uri": "https://localhost:8080/"
        },
        "id": "Jk1Naqs56oUp",
        "outputId": "d8ed4c55-5dd1-4793-c45c-dfb48bad790d"
      },
      "source": [
        "vgg2_models = torch.load('model1.h5',map_location={'cuda:0': 'cpu'})\n",
        "model2 = vgg2_models\n",
        "#model = vgg2_models\n",
        "# Need to flatten X1 before feeding into MLP\n",
        "X1 = np.array(X_test)\n",
        "y1_pred, y1_si, y1_so = predict(model2, torch.from_numpy(X1))\n",
        "print('Predictions: {}'.format(y1_pred))"
      ],
      "execution_count": null,
      "outputs": [
        {
          "output_type": "stream",
          "text": [
            "Predictions: [1 0 1 0 0 1 1 0 1 1]\n"
          ],
          "name": "stdout"
        }
      ]
    },
    {
      "cell_type": "code",
      "metadata": {
        "colab": {
          "base_uri": "https://localhost:8080/",
          "height": 333
        },
        "id": "9gIl8lOx5j3c",
        "outputId": "2a419545-75a9-481e-9f95-111ce4b27af5"
      },
      "source": [
        "plt.rcParams.update({'font.size': 22})\n",
        "plt.figure(figsize=(14, 5))\n",
        "plt.subplot(1, 2, 1)\n",
        "plt.scatter(np.tile(np.arange(1, 11), y1_si.shape[0]), y1_si[:, :, 0].flatten(), \\\n",
        "            color='r', marker='s', linewidth=3, alpha=0.2, label='0');\n",
        "plt.scatter(np.tile(np.arange(1, 11), y1_si.shape[0]), y1_si[:, :, 1].flatten(), \\\n",
        "           color='b', marker='s', linewidth=3, alpha=0.2, label='1');\n",
        "plt.title('Softmax input');\n",
        "lgnd = plt.legend(framealpha=0.7, loc = 'lower right', fontsize=12, scatterpoints=1);\n",
        "lgnd.legendHandles[0]._sizes = [100]\n",
        "lgnd.legendHandles[1]._sizes = [100]\n",
        "\n",
        "plt.subplot(1, 2, 2)\n",
        "plt.scatter(np.tile(np.arange(1, 11), y1_so.shape[0]), y1_so[:, :, 0].flatten(), \\\n",
        "            color='r', marker='s', linewidth=3, alpha=0.2, label='0');\n",
        "plt.scatter(np.tile(np.arange(1, 11), y1_so.shape[0]), y1_so[:, :, 1].flatten(), \\\n",
        "            color='b', marker='s', linewidth=3, alpha=0.2, label='1');\n",
        "\n",
        "plt.title('Softmax output');\n",
        "lgnd = plt.legend(framealpha=0.7, loc = 'lower right', fontsize=14, scatterpoints=1);\n",
        "lgnd.legendHandles[0]._sizes = [50]\n",
        "lgnd.legendHandles[1]._sizes = [50]\n",
        "\n",
        "plt.tight_layout();\n",
        "#Input: [1 0 1 0 1 1 1 1 0 1]\n",
        "#Pred:  [1 0 1 0 0 1 1 0 1 1]"
      ],
      "execution_count": null,
      "outputs": [
        {
          "output_type": "display_data",
          "data": {
            "image/png": "[encoded data removed]",
            "text/plain": [
              "<Figure size 1008x360 with 2 Axes>"
            ]
          },
          "metadata": {
            "tags": [],
            "needs_background": "light"
          }
        }
      ]
    },
    {
      "cell_type": "markdown",
      "metadata": {
        "id": "n8mU4_1KbEk6"
      },
      "source": [
        "## **Generate Histograms**"
      ]
    },
    {
      "cell_type": "code",
      "metadata": {
        "id": "67nE5_LwbElF"
      },
      "source": [
        "from __future__ import print_function\n",
        "import math\n",
        "import matplotlib.pyplot as plt\n",
        "import os\n",
        "\n",
        "import torch.nn as nn\n",
        "import torch.nn.functional as F\n",
        "\n",
        "import torch\n",
        "import torch.optim as optim\n",
        "from torchvision import datasets, transforms\n",
        "from torch.autograd import Variable\n",
        "\n",
        "import warnings\n",
        "warnings.simplefilter(action='ignore')\n",
        "\n",
        "def apply_dropout(m):\n",
        "    for each_module in m.children():\n",
        "        if each_module.__class__.__name__.startswith('Dropout'):\n",
        "            each_module.train()\n",
        "    return m\n",
        "\n",
        "def enable_dropout(m):\n",
        "  for each_module in m.modules():\n",
        "    if each_module.__class__.__name__.startswith('Dropout'):\n",
        "      each_module.train()\n",
        "\n",
        "def uncertainties(p):\n",
        "    aleatoric = np.mean(p*(1-p), axis=0)\n",
        "    epistemic = np.mean(p**2, axis=0) - np.mean(p, axis=0)**2\n",
        "    return aleatoric, epistemic\n"
      ],
      "execution_count": null,
      "outputs": []
    },
    {
      "cell_type": "code",
      "metadata": {
        "id": "R4eq7kbhbElI"
      },
      "source": [
        "#----------------------------CHOOSE RANDOM IMAGE----------------------------------------------\n",
        "for test_images, test_labels in dataloaders['test']:  \n",
        "    sample_image = test_images[2]\n",
        "    sample_label = test_labels[2]\n",
        "\n",
        "T = 100 # how many times to apply drop-out at test time"
      ],
      "execution_count": null,
      "outputs": []
    },
    {
      "cell_type": "code",
      "metadata": {
        "colab": {
          "base_uri": "https://localhost:8080/"
        },
        "id": "1gl3hWA6bElJ",
        "outputId": "7a37142f-cb78-4349-b63a-dad923b5eb34"
      },
      "source": [
        "sample_label"
      ],
      "execution_count": null,
      "outputs": [
        {
          "output_type": "execute_result",
          "data": {
            "text/plain": [
              "tensor(0)"
            ]
          },
          "metadata": {
            "tags": []
          },
          "execution_count": 6
        }
      ]
    },
    {
      "cell_type": "code",
      "metadata": {
        "id": "HKZexulibElL"
      },
      "source": [
        "def imshow(inp, title=None):\n",
        "    \"\"\"Imshow for Tensor.\"\"\"\n",
        "    inp = inp.numpy().transpose((1, 2, 0))\n",
        "    mean = np.array([0.485, 0.456, 0.406])\n",
        "    std = np.array([0.229, 0.224, 0.225])\n",
        "    inp = std * inp + mean\n",
        "    inp = np.clip(inp, 0, 1)\n",
        "    \n",
        "    plt.figure(figsize=(8, 4))\n",
        "    plt.imshow(inp)\n",
        "    if title is not None:\n",
        "        plt.title(title)\n",
        "    plt.axis('off')\n",
        "    #plt.pause(0.001)  # pause a bit so that plots are updated"
      ],
      "execution_count": null,
      "outputs": []
    },
    {
      "cell_type": "code",
      "metadata": {
        "id": "Jf2AmwKIbElM"
      },
      "source": [
        "import matplotlib.pyplot as plt\n",
        "import numpy as np\n",
        "import seaborn as sns\n",
        "import scipy.stats as stats\n",
        "#sns.set(rc={'figure.figsize':(14,6)})\n",
        "#plt.gcf().set_size_inches(11.7, 8.27)\n",
        "def plothist(grdtruth, prediction, flag):\n",
        "  #for i in prediction:\n",
        "  mean = np.mean(prediction)\n",
        "  std = np.std(prediction)\n",
        "  if std>=0.1:\n",
        "    dec = \"Uncertain\"\n",
        "  else:\n",
        "    dec = \"Certain\"\n",
        "  if flag == 1 and std <= 0.1:\n",
        "    sns.displot(prediction, kind=\"kde\", bw_adjust=.6, fill=True, color= '#ff6c70', label = 'Correct', legend=True)\n",
        "  elif flag == 1 and std > 0.1:\n",
        "    sns.displot(prediction, kind=\"kde\", bw_adjust=.6, fill=True, color= '#ff6c70', label = 'Correct', legend=True)\n",
        "  else:\n",
        "    #sns.displot(grdtruth, kind=\"kde\", bw_adjust=.6, fill=True, color= '#ff6c70', label = 'Grd Truth')\n",
        "    #sns.displot(prediction, kind=\"kde\", bw_adjust=.6, fill=True, color= '#00DBFF', label = 'Pred.')\n",
        "    sns.displot([grdtruth, prediction], kind=\"kde\", bw_adjust=.6, fill=True,\n",
        "                color= ['#ff6c70',  '#00DBFF'], legend=True)\n",
        "  #sns.displot(ntpred, kind=\"kde\", bw_adjust=.6, fill=True, color='#ff6c70', label = 'incorrect', legend=True)\n",
        "  \n",
        "  plt.title(\"$μ$: {:.3f} $σ$: {:.3f}  {}\".format(mean, std, dec), loc='left', fontsize=22)\n",
        "  #plt.text(\"$σ$: {:.3f}  {}\".format(std, dec), fontsize=14, ha='center', va='center')\n",
        "  #plt.title(\"p(Tiger | image)\", fontsize=20)\n",
        "  plt.xlabel(\"Observations\", fontsize=20)\n",
        "  plt.ylabel(\"Density\", fontsize=20)\n",
        "  #plt.legend()\n",
        "  #sns.displot(prediction[1], kind=\"kde\", bw_adjust=.6, fill=True, color='#EF9A9A')\n",
        "  #sns.plt.show()"
      ],
      "execution_count": null,
      "outputs": []
    },
    {
      "cell_type": "code",
      "metadata": {
        "id": "5MXb3DNDFtU1"
      },
      "source": [
        "import numpy as np\n",
        "pred = []\n",
        "#----------------------------PREDICT-------------------------------------------\n",
        "def predict(model, image, label, T=T):\n",
        "    enable_dropout(model)\n",
        "    # prepare label\n",
        "    label = label.item()\n",
        "    # prepare image\n",
        "    #image = image.flatten()\n",
        "    image = image.unsqueeze(0).to(device)\n",
        "    #image.to(device)\n",
        "    standard_output = model(image)\n",
        "    _, standard_prediction = standard_output.max(0)\n",
        "    model.train()\n",
        "    # each vector will consist of T elements- the class-specific predictive probability from each model\n",
        "    zero_p_hat= []\n",
        "    one_p_hat= []\n",
        "\n",
        "    #for idx, (images, labels) in enumerate(test_lloader):\n",
        "            #images = images.to(device)\n",
        "            #labels = labels.to(device)\n",
        "    # predict stochastic dropout model T times\n",
        "    for t in range(T):\n",
        "        enable_dropout(model) \n",
        "        output = model(Variable(image))\n",
        "        output = output.detach().cpu()\n",
        "        output_prob1 = np.exp(output) #convert to predictive probabilities\n",
        "        output_prob = F.softmax(output_prob1, dim=1)\n",
        "        zero_p_hat.append(output_prob[0][0].item()) # P( c = 0 | image)\n",
        "        one_p_hat.append(output_prob[0][1].item()) # P( c = 1 | image)\n",
        "\n",
        "    # mean prediction\n",
        "    zero_var = np.var(zero_p_hat)\n",
        "    one_var = np.var(one_p_hat)\n",
        "\n",
        "    #pred = zero_p_hat\n",
        "    \n",
        "    # will be a list of 10 elements, the variance of each class's predictions across T models\n",
        "    class_specific_uncertainties = [zero_var, one_var]\n",
        "    variance_of_class_specific_predictions = class_specific_uncertainties[label]\n",
        "    p_hat_lists = [zero_p_hat, one_p_hat]\n",
        "    \n",
        "\n",
        "    return standard_prediction[0].item(), variance_of_class_specific_predictions, p_hat_lists[label], p_hat_lists"
      ],
      "execution_count": null,
      "outputs": []
    },
    {
      "cell_type": "code",
      "metadata": {
        "id": "JsG_s43kbWMj"
      },
      "source": [
        "# Dropout at test-time for uncertainty estimation\n",
        "vgg1_models = torch.load('model1.h5',map_location={'cuda:0': 'cpu'})\n",
        "vgg1_models.to(device)\n",
        "prediction, var_uncertainty, samplePred, allSamples = predict(vgg1_models, sample_image, sample_label)\n",
        "\n",
        "print(f'The model predicts: {prediction} ')\n",
        "print(f'The ground truth: {sample_label}')\n",
        "print(f'The number of samplings: {T}')\n",
        "print(f'Variance of class-specific predictions across the models: {var_uncertainty}')\n",
        "#print(f'Aleatoric and epistemic uncertainty: {aleatoric}')\n",
        "#print(f'Epistemic uncertainty: {epistemic}')\n",
        "#print(f'Moodels predictive probability: {_}')\n",
        "#imshow(inp = sample_image, title = sample_label)\n",
        "lbl = sample_label.item()\n",
        "imshow(inp = sample_image, title = lbl)\n",
        "if prediction == sample_label:\n",
        "  flag = 1\n",
        "else:\n",
        "  flag = 0\n",
        "plothist(allSamples[lbl], allSamples[prediction], flag)"
      ],
      "execution_count": null,
      "outputs": []
    },
    {
      "cell_type": "code",
      "metadata": {
        "id": "QC0spwHISRTw",
        "colab": {
          "base_uri": "https://localhost:8080/"
        },
        "outputId": "4fa2c002-202e-4db1-c330-ee6270e0a077"
      },
      "source": [
        "#----------------------------CHOOSE RANDOM IMAGE----------------------------------------------\n",
        "for test_images, test_labels in dataloaders['test']:  \n",
        "    sample_image = test_images[2]\n",
        "    sample_label = test_labels[2]\n",
        "\n",
        "T = 100 \n",
        "sample_label"
      ],
      "execution_count": null,
      "outputs": [
        {
          "output_type": "execute_result",
          "data": {
            "text/plain": [
              "tensor(1)"
            ]
          },
          "metadata": {
            "tags": []
          },
          "execution_count": 15
        }
      ]
    },
    {
      "cell_type": "code",
      "metadata": {
        "colab": {
          "base_uri": "https://localhost:8080/",
          "height": 705
        },
        "id": "UdRnFX9d_8SK",
        "outputId": "0700ae11-1919-4b13-81cc-e3f3dddc8f16"
      },
      "source": [
        "# Dropout at test-time for uncertainty estimation\n",
        "vgg2_models = torch.load('model2.h5',map_location={'cuda:0': 'cpu'})\n",
        "vgg2_models.to(device)\n",
        "prediction, var_uncertainty, samplePred, allSamples = predict(vgg2_models, sample_image, sample_label)\n",
        "\n",
        "print(f'The model predicts: {prediction} ')\n",
        "print(f'The ground truth: {sample_label}')\n",
        "print(f'The number of samplings: {T}')\n",
        "print(f'Variance of class-specific predictions across the models: {var_uncertainty}')\n",
        "#print(f'Aleatoric and epistemic uncertainty: {aleatoric}')\n",
        "#print(f'Epistemic uncertainty: {epistemic}')\n",
        "#print(f'Moodels predictive probability: {_}')\n",
        "#imshow(inp = sample_image, title = sample_label)\n",
        "lbl = sample_label.item()\n",
        "imshow(inp = sample_image, title = lbl)\n",
        "if prediction == sample_label:\n",
        "  flag = 1\n",
        "else:\n",
        "  flag = 0\n",
        "plothist(allSamples[lbl], allSamples[prediction], flag)"
      ],
      "execution_count": null,
      "outputs": [
        {
          "output_type": "stream",
          "text": [
            "The model predicts: 0 \n",
            "The ground truth: 0\n",
            "The number of samplings: 100\n",
            "Variance of class-specific predictions across the models: 0.007723053213434197\n"
          ],
          "name": "stdout"
        },
        {
          "output_type": "display_data",
          "data": {
            "image/png": "[encoded data removed]",
            "text/plain": [
              "<Figure size 576x288 with 1 Axes>"
            ]
          },
          "metadata": {
            "tags": []
          }
        },
        {
          "output_type": "display_data",
          "data": {
            "image/png": "[encoded data removed]",
            "text/plain": [
              "<Figure size 360x360 with 1 Axes>"
            ]
          },
          "metadata": {
            "tags": []
          }
        }
      ]
    },
    {
      "cell_type": "markdown",
      "metadata": {
        "id": "oDlEt0ITCuaU"
      },
      "source": [
        "## **Test-with Rejection(Fixed Uncertainty)**"
      ]
    },
    {
      "cell_type": "code",
      "metadata": {
        "id": "s1l5Pq45CuaZ"
      },
      "source": [
        "#For Pretrained VGG Model\n",
        "import warnings\n",
        "warnings.filterwarnings(\"ignore\")\n",
        "\n",
        "import numpy as np\n",
        "import pandas as pd\n",
        "import time\n",
        "import h5py\n",
        "from scipy.ndimage.interpolation import rotate\n",
        "\n",
        "import matplotlib\n",
        "import matplotlib.pyplot as plt\n",
        "import matplotlib.image as mpimg\n",
        "import matplotlib.gridspec as gridspec\n",
        "\n",
        "import seaborn as sns\n",
        "%matplotlib inline\n",
        "\n",
        "import torch\n",
        "import torchvision\n",
        "from torchvision import datasets, models, transforms\n",
        "from torch.autograd import Variable\n",
        "import torch.nn as nn\n",
        "import torch.nn.functional as F\n",
        "import torch.optim as optim\n",
        "from torch.utils.data.sampler import SubsetRandomSampler\n",
        "from torch.optim import lr_scheduler\n",
        "import os\n",
        "import copy\n",
        "device = torch.device(\"cuda\")\n",
        "#model = Net()\n",
        "#model.load_state_dict(torch.load('model.h5', map_location=\"cuda:0\"))  # Choose whatever GPU device number you want\n",
        "#model.to(device)\n",
        "#model.eval()\n",
        "#net_trained = torch.load('model.h5')\n",
        "model_ft = torch.load('model2.h5')\n",
        "#model_ft.to(device)"
      ],
      "execution_count": null,
      "outputs": []
    },
    {
      "cell_type": "code",
      "metadata": {
        "id": "yh1Eg8b1Cuab"
      },
      "source": [
        "def apply_dropout(m):\n",
        "    for each_module in m.children():\n",
        "        if each_module.__class__.__name__.startswith('Dropout'):\n",
        "            each_module.train()\n",
        "    return m\n",
        "\n",
        "def enable_dropout(m):\n",
        "  for each_module in m.modules():\n",
        "    if each_module.__class__.__name__.startswith('Dropout'):\n",
        "      each_module.train()\n",
        "\n",
        "def uncertainties(p):\n",
        "    aleatoric = np.mean(p*(1-p), axis=0)\n",
        "    epistemic = np.mean(p**2, axis=0) - np.mean(p, axis=0)**2\n",
        "    return aleatoric, epistemic"
      ],
      "execution_count": null,
      "outputs": []
    },
    {
      "cell_type": "code",
      "metadata": {
        "id": "2YKQY74l1v25"
      },
      "source": [
        "import numpy as np\n",
        "\n",
        "out_std = []\n",
        "output_var = []\n",
        "eps_list = []\n",
        "al_list = []\n",
        "T = 50\n",
        "#predlist=torch.zeros(0,dtype=torch.long, device='cpu')\n",
        "#lbllist=torch.zeros(0,dtype=torch.long, device='cpu')\n",
        "predlist=[]\n",
        "lbllist=[]\n",
        "\n",
        "lr_probsDr0 = []\n",
        "lr_probsDr1 = []\n",
        "testyDr = []"
      ],
      "execution_count": null,
      "outputs": []
    },
    {
      "cell_type": "code",
      "metadata": {
        "id": "eTP4eAAaCuac"
      },
      "source": [
        "def mcdropout(model):\n",
        "    enable_dropout(model)\n",
        "    model.train()\n",
        "    correct = 0\n",
        "    T = 10\n",
        "    predicted_for_images = 0\n",
        "    correct_predictions=0\n",
        "    skipped = 0\n",
        "    flag = None\n",
        "    test_loss = 0\n",
        "    for idx, (images, labels) in enumerate(testloader):\n",
        "        #images = images.view(-1, 3*224*224)\n",
        "        if idx%100 == 0:\n",
        "          print(f'{idx}/{len(testloader)}')\n",
        "        images = images.to(device)\n",
        "        #images = images.unsqueeze(0).to(device)\n",
        "        #print(images.shape)\n",
        "        labels = labels.to(device)\n",
        "        #for images,labels in testloader:\n",
        "        #zero_p_hat = []\n",
        "        #one_p_hat = []\n",
        "        output_list = []\n",
        "        p_hat_lists = []\n",
        "        zero_p_hat= []\n",
        "        one_p_hat= []\n",
        "        #histo_exp = []\n",
        "        for i in range(T):\n",
        "            enable_dropout(model) \n",
        "            out = torch.unsqueeze(F.softmax(model(images)), 0)\n",
        "\n",
        "            output_list.append(out)\n",
        "            output = out.detach()\n",
        "            output_prob = np.asarray(output.cpu()).squeeze() #convert to predictive probabilities\n",
        "\n",
        "        output_mean = torch.cat(output_list, 0).mean(0)\n",
        "        output_variance = torch.cat(output_list, 0).var(0).mean().data\n",
        "        unct_list = output_variance.cpu().data.numpy()\n",
        "        output_std = torch.cat(output_list, 0).std(0).mean()\n",
        "        std_list = output_std.cpu().data.numpy()\n",
        "        #print(std_list.item())\n",
        "        out_std.append(std_list)\n",
        "        output_var.append(unct_list)\n",
        "\n",
        "        #epistemic = np.mean(torch.cat(output_list, 0).cpu().data.numpy()**2, axis=0) - np.mean(torch.cat(output_list, 0).cpu().data.numpy(), axis=0)**2\n",
        "        #print(f'std = {output_std}')\n",
        "\n",
        "        confidence = output_mean.data.cpu().numpy().max()   \n",
        "        test_loss = F.nll_loss(F.log_softmax(output_mean,dim=1), labels, reduction='sum').data  # sum up batch loss\n",
        "        #test_loss = F.nll_loss(output_mean, labels, reduction='sum').data\n",
        "        _, predicted  = torch.max(output_mean, 1) # get the index of the max log-probability\n",
        "        pred_list = predicted.cpu().data.numpy()\n",
        "        correct = (predicted == labels).sum().item()\n",
        "\n",
        "        p_hat_lists = [zero_p_hat, one_p_hat]\n",
        "        p = np.array(p_hat_lists[labels])\n",
        "\n",
        "        epistemic = np.mean(p**2, axis=0) - (np.mean(p, axis=0)**2)\n",
        "        aleatoric = np.mean(p*(1-p), axis=0)\n",
        "        eps_list.append(epistemic)\n",
        "        al_list.append(aleatoric)\n",
        "\n",
        "        if(std_list <= 0.1):\n",
        "            predicted_for_images += 1\n",
        "            #predlist=torch.cat([predlist,predicted.item().cpu()])\n",
        "            #lbllist=torch.cat([lbllist,labels.item().cpu()])\n",
        "            predlist.append(predicted.item())\n",
        "            lbllist.append(labels.item())\n",
        "\n",
        "            lr_probsDr0.append(output_mean[:,0].item())\n",
        "            lr_probsDr1.append(output_mean[:,1].item())\n",
        "            testyDr.append(labels.item())\n",
        "\n",
        "            if(labels==predicted):\n",
        "                #print(\"Correct\")\n",
        "                correct_predictions +=1.0\n",
        "                flag = 'Correct'\n",
        "            else:\n",
        "                #print(\"Incorrect :()\")\n",
        "                flag = 'Incorrect'\n",
        "        else:\n",
        "            flag = 'Undecided'\n",
        "            skipped += 1\n",
        "\n",
        "    return len(testloader), correct_predictions, predicted_for_images, skipped"
      ],
      "execution_count": null,
      "outputs": []
    },
    {
      "cell_type": "code",
      "metadata": {
        "id": "2MdRLGLoCuad"
      },
      "source": [
        "data_transforms = {\n",
        "    'test': transforms.Compose([\n",
        "        transforms.Resize([224, 224]),\n",
        "        transforms.ToTensor(),\n",
        "        transforms.Normalize(mean=[0.485, 0.456, 0.406], std=[0.229, 0.224, 0.225])\n",
        "    ]),\n",
        "}\n",
        "data_dir = 'Mosq/'\n",
        "\n",
        "image_datasets = {x: datasets.ImageFolder(os.path.join(data_dir, x), data_transforms[x])\n",
        "                    for x in ['test']}\n",
        "testloader = torch.utils.data.DataLoader(image_datasets['test'], batch_size=1, shuffle=True)\n",
        "class_names = image_datasets['test'].classes\n",
        "\n",
        "device = torch.device(\"cuda:0\" if torch.cuda.is_available() else \"cpu\")"
      ],
      "execution_count": null,
      "outputs": []
    },
    {
      "cell_type": "code",
      "metadata": {
        "id": "pl9JM-MdCuad",
        "colab": {
          "base_uri": "https://localhost:8080/"
        },
        "outputId": "b297fb56-f1f2-4fb5-dac2-099e83f1f89b"
      },
      "source": [
        "#ckpt_dropout = torch.load('vgg1_last_mod.pth')\n",
        "#ckpt_dropout.load_state_dict(ckpt_dropout)\n",
        "total, correct, predictions, skipped = mcdropout(model_ft)\n",
        "print(\"Total images: \", total)\n",
        "print(\"Skipped1: \", skipped)\n",
        "print(\"Skipped: \", total - predictions)\n",
        "print(\"Correct Prediction: {}/{}\".format(correct, predictions))\n",
        "print(f'Wrong predictions {predictions-correct}')\n",
        "print(\"Accuracy when made predictions: %d %%\" % (100 * correct / predictions))"
      ],
      "execution_count": null,
      "outputs": [
        {
          "output_type": "stream",
          "text": [
            "0/1275\n",
            "100/1275\n",
            "200/1275\n",
            "300/1275\n",
            "400/1275\n",
            "500/1275\n",
            "600/1275\n",
            "700/1275\n",
            "800/1275\n",
            "900/1275\n",
            "1000/1275\n",
            "1100/1275\n",
            "1200/1275\n",
            "Total images:  1275\n",
            "Skipped1:  430\n",
            "Skipped:  430\n",
            "Correct Prediction: 778.0/845\n",
            "Wrong predictions 67.0\n",
            "Accuracy when made predictions: 92 %\n"
          ],
          "name": "stdout"
        }
      ]
    },
    {
      "cell_type": "code",
      "metadata": {
        "id": "8klp_Jud7xJO",
        "colab": {
          "base_uri": "https://localhost:8080/",
          "height": 171
        },
        "outputId": "e3e6e0d2-2794-4e63-a9d0-87d353d329e7"
      },
      "source": [
        "import torch\n",
        "torch.cuda.empty_cache()\n",
        "torch.cuda.memory_summary(device=None, abbreviated=False)"
      ],
      "execution_count": null,
      "outputs": [
        {
          "output_type": "execute_result",
          "data": {
            "application/vnd.google.colaboratory.intrinsic+json": {
              "type": "string"
            },
            "text/plain": [
              "'|===========================================================================|\\n|                  PyTorch CUDA memory summary, device ID 0                 |\\n|---------------------------------------------------------------------------|\\n|            CUDA OOMs: 0            |        cudaMalloc retries: 0         |\\n|===========================================================================|\\n|        Metric         | Cur Usage  | Peak Usage | Tot Alloc  | Tot Freed  |\\n|---------------------------------------------------------------------------|\\n| Allocated memory      |  525384 KB |    2975 MB |    3525 GB |    3524 GB |\\n|       from large pool |  524288 KB |    2880 MB |    3448 GB |    3447 GB |\\n|       from small pool |    1096 KB |      95 MB |      76 GB |      76 GB |\\n|---------------------------------------------------------------------------|\\n| Active memory         |  525384 KB |    2975 MB |    3525 GB |    3524 GB |\\n|       from large pool |  524288 KB |    2880 MB |    3448 GB |    3447 GB |\\n|       from small pool |    1096 KB |      95 MB |      76 GB |      76 GB |\\n|---------------------------------------------------------------------------|\\n| GPU reserved memory   |  530432 KB |    3020 MB |    3020 MB |    2502 MB |\\n|       from large pool |  528384 KB |    2920 MB |    2920 MB |    2404 MB |\\n|       from small pool |    2048 KB |     100 MB |     100 MB |      98 MB |\\n|---------------------------------------------------------------------------|\\n| Non-releasable memory |    5047 KB |     927 MB |    1698 GB |    1698 GB |\\n|       from large pool |    4096 KB |     875 MB |    1620 GB |    1620 GB |\\n|       from small pool |     951 KB |      51 MB |      78 GB |      78 GB |\\n|---------------------------------------------------------------------------|\\n| Allocations           |      32    |     946    |     763 K  |     763 K  |\\n|       from large pool |      11    |     512    |     446 K  |     446 K  |\\n|       from small pool |      21    |     435    |     316 K  |     316 K  |\\n|---------------------------------------------------------------------------|\\n| Active allocs         |      32    |     946    |     763 K  |     763 K  |\\n|       from large pool |      11    |     512    |     446 K  |     446 K  |\\n|       from small pool |      21    |     435    |     316 K  |     316 K  |\\n|---------------------------------------------------------------------------|\\n| GPU reserved segments |       6    |     180    |     180    |     174    |\\n|       from large pool |       5    |     130    |     130    |     125    |\\n|       from small pool |       1    |      50    |      50    |      49    |\\n|---------------------------------------------------------------------------|\\n| Non-releasable allocs |       3    |     209    |  321915    |  321912    |\\n|       from large pool |       2    |     106    |  193412    |  193410    |\\n|       from small pool |       1    |     111    |  128503    |  128502    |\\n|===========================================================================|\\n'"
            ]
          },
          "metadata": {
            "tags": []
          },
          "execution_count": 7
        }
      ]
    },
    {
      "cell_type": "markdown",
      "metadata": {
        "id": "oc2klk9wlXx_"
      },
      "source": [
        "### **Local Conf Mat**"
      ]
    },
    {
      "cell_type": "code",
      "metadata": {
        "id": "ZhSbe1-KCuai"
      },
      "source": [
        "from sklearn.metrics import confusion_matrix\n",
        "import itertools\n",
        "import numpy as np\n",
        "import matplotlib.pyplot as plt\n",
        "\n",
        "def plot_confusion_matrix(cm, classes, normalize=False, title='Confusion matrix', cmap=plt.cm.Blues):\n",
        "    if normalize:\n",
        "        cm = cm.astype('float') / cm.sum(axis=1)[:, np.newaxis]\n",
        "        print(\"Normalized confusion matrix\")\n",
        "    else:\n",
        "        print('Confusion matrix, without normalization')\n",
        "\n",
        "    print(cm)\n",
        "    plt.imshow(cm, interpolation='nearest', cmap=cmap)\n",
        "    plt.title(title)\n",
        "    plt.colorbar()\n",
        "    tick_marks = np.arange(len(classes))\n",
        "    plt.xticks(tick_marks, classes, rotation=45)\n",
        "    plt.yticks(tick_marks, classes)\n",
        "\n",
        "    fmt = '.2f' if normalize else 'd'\n",
        "    thresh = cm.max() / 2.\n",
        "    for i, j in itertools.product(range(cm.shape[0]), range(cm.shape[1])):\n",
        "        plt.text(j, i, format(cm[i, j], fmt), horizontalalignment=\"center\", color=\"white\" if cm[i, j] > thresh else \"black\")\n",
        "\n",
        "    plt.tight_layout()\n",
        "    plt.ylabel('True label')\n",
        "    plt.xlabel('Predicted label')"
      ],
      "execution_count": null,
      "outputs": []
    },
    {
      "cell_type": "code",
      "metadata": {
        "id": "ATpBGJoACuaj",
        "colab": {
          "base_uri": "https://localhost:8080/",
          "height": 634
        },
        "outputId": "c1eca81a-2ff2-43a3-940d-51e8979699ab"
      },
      "source": [
        "from sklearn.metrics import confusion_matrix\n",
        "import numpy as np\n",
        "plt.rcParams.update({'font.size': 22})\n",
        "nb_classes = 2\n",
        "cm = confusion_matrix(np.array(lbllist), np.array(predlist))\n",
        "\n",
        "plt.figure(figsize=(10,8))\n",
        "names = (\n",
        "    'Tiger'\n",
        "    ,'NonTiger'\n",
        ")\n",
        "plot_confusion_matrix(cm, names)"
      ],
      "execution_count": null,
      "outputs": [
        {
          "output_type": "stream",
          "text": [
            "Confusion matrix, without normalization\n",
            "[[555   8]\n",
            " [ 59 223]]\n"
          ],
          "name": "stdout"
        },
        {
          "output_type": "display_data",
          "data": {
            "image/png": "[encoded data removed]",
            "text/plain": [
              "<Figure size 720x576 with 2 Axes>"
            ]
          },
          "metadata": {
            "tags": [],
            "needs_background": "light"
          }
        }
      ]
    },
    {
      "cell_type": "code",
      "metadata": {
        "colab": {
          "base_uri": "https://localhost:8080/"
        },
        "id": "adrZOYnDlq6d",
        "outputId": "77ea981e-f593-48eb-acb0-a1635472a7a5"
      },
      "source": [
        "from sklearn.metrics import classification_report\n",
        "print(classification_report(np.array(lbllist), np.array(predlist)))"
      ],
      "execution_count": null,
      "outputs": [
        {
          "output_type": "stream",
          "text": [
            "              precision    recall  f1-score   support\n",
            "\n",
            "           0       0.97      0.98      0.97       457\n",
            "           1       0.97      0.97      0.97       379\n",
            "\n",
            "    accuracy                           0.97       836\n",
            "   macro avg       0.97      0.97      0.97       836\n",
            "weighted avg       0.97      0.97      0.97       836\n",
            "\n"
          ],
          "name": "stdout"
        }
      ]
    },
    {
      "cell_type": "markdown",
      "metadata": {
        "id": "IzUdq2qR3txU"
      },
      "source": [
        "## **Test With Rejection (N% Rejection)**"
      ]
    },
    {
      "cell_type": "code",
      "metadata": {
        "id": "MNk9_DST4igS"
      },
      "source": [
        "#Test N% of most accurate datasets.\n",
        "from torch.autograd import Variable\n",
        "#from pytorch_lightning import metrics\n",
        "#valid_accuracy = metrics.Accuracy(compute_on_step=False)\n",
        "from operator import itemgetter\n",
        "import torch\n",
        "from torch.nn import functional as F\n",
        "\n",
        "def test(model, test_loader, device):\n",
        "  test_cases = [1, 0.9, 0.8, 0.7, 0.6, 0.4, 0.2]\n",
        "  zipV = []\n",
        "  #zipV = []\n",
        "  acc = []\n",
        "  correct = []\n",
        "  correctfromrejected = []\n",
        "  test_loss = 0\n",
        "  criterion = nn.CrossEntropyLoss()\n",
        "  model.eval()\n",
        "  with torch.no_grad():\n",
        "      for batch in test_loader:\n",
        "          \n",
        "          data, target = batch\n",
        "          data, target = data.to(device), target.to(device)\n",
        "          output = model(data)\n",
        "          probabilities = F.softmax(output, dim=1)\n",
        "          # Keep only the top class confidence for each sample\n",
        "          most_probable = torch.max(probabilities, dim=1)[0]\n",
        "          prediction = output.argmax(dim=1, keepdim=True)\n",
        "          temp = [i for i in zip(target,most_probable,prediction)]\n",
        "          sortedTemp = sorted(temp, key=itemgetter(1), reverse=True)\n",
        "\n",
        "          test_loss += criterion(output.squeeze(), target.squeeze()).item()  # sum up batch loss\n",
        "          #prediction = output.argmax(dim=1, keepdim=True)\n",
        "          zipV.extend(sortedTemp)\n",
        "      zipV = sorted(zipV, key=itemgetter(1), reverse=True)\n",
        "      for i in range(len(test_cases)):\n",
        "        N = int(test_cases[i]*len(zipV))\n",
        "        selForEval = zipV[0:N+1]\n",
        "        rejected = zipV[N+2:]\n",
        "        corectpred = 0\n",
        "        for k in range(len(selForEval)):\n",
        "            if selForEval[k][0] == selForEval[k][2]:\n",
        "                corectpred += 1\n",
        "        correct.append(corectpred)\n",
        "        acc.append(corectpred/len(selForEval))\n",
        "        correctfromrej = 0\n",
        "        for l in range(len(rejected)):\n",
        "            if rejected[l][0] == rejected[l][2]:\n",
        "                correctfromrej += 1\n",
        "        correctfromrejected.append(correctfromrej)\n",
        "        #print(f'Acc:{acc:.2f}%')\n",
        "        #test_loss /= len(test_loader.dataset)\n",
        "        trejected = len(zipV)-N\n",
        "        correctfreje = correctfromrejected[i]\n",
        "        print(f'==>Correct: {correct[i]}/{N}, Test error: {N-correct[i]}/{N}, Test Accuracy 2: {acc[i]:.2f}')\n",
        "        if test_cases[i]!= 1:\n",
        "          print(f'Reference operating point:{zipV[N+1]},{zipV[N+2]}')\n",
        "        print(f'==>Correct But Rejected: {correctfreje}/{trejected}')\n",
        "        print(f'Error But Reje: {trejected - correctfreje}/{trejected}')\n",
        "        print(f'=====================================================================')\n",
        "        #writer.add_scalar(f'Runs/Loss/test2', test_loss, epoch)\n",
        "        #writer.add_scalar(f'Runs/Accuracy/test2', acc, epoch)"
      ],
      "execution_count": null,
      "outputs": []
    },
    {
      "cell_type": "code",
      "metadata": {
        "id": "snDgCvtG4igU",
        "colab": {
          "base_uri": "https://localhost:8080/"
        },
        "outputId": "65e3bb0a-f1f7-4023-e7c7-c85c03afe69d"
      },
      "source": [
        "model_ft = torch.load('model2.h5')\n",
        "test(model_ft, dataloaders['test'], device)"
      ],
      "execution_count": null,
      "outputs": [
        {
          "output_type": "stream",
          "text": [
            "==>Correct: 1143/1275, Test error: 132/1275, Test Accuracy 2: 0.90\n",
            "==>Correct But Rejected: 0/0\n",
            "Error But Reje: 0/0\n",
            "=====================================================================\n",
            "==>Correct: 1062/1147, Test error: 85/1147, Test Accuracy 2: 0.93\n",
            "Reference operating point:(tensor(0, device='cuda:0'), tensor(0.5916, device='cuda:0'), tensor([0], device='cuda:0')),(tensor(1, device='cuda:0'), tensor(0.5915, device='cuda:0'), tensor([1], device='cuda:0'))\n",
            "==>Correct But Rejected: 80/128\n",
            "Error But Reje: 48/128\n",
            "=====================================================================\n",
            "==>Correct: 965/1020, Test error: 55/1020, Test Accuracy 2: 0.95\n",
            "Reference operating point:(tensor(0, device='cuda:0'), tensor(0.6638, device='cuda:0'), tensor([0], device='cuda:0')),(tensor(0, device='cuda:0'), tensor(0.6633, device='cuda:0'), tensor([0], device='cuda:0'))\n",
            "==>Correct But Rejected: 177/255\n",
            "Error But Reje: 78/255\n",
            "=====================================================================\n",
            "==>Correct: 854/892, Test error: 38/892, Test Accuracy 2: 0.96\n",
            "Reference operating point:(tensor(1, device='cuda:0'), tensor(0.7143, device='cuda:0'), tensor([1], device='cuda:0')),(tensor(1, device='cuda:0'), tensor(0.7143, device='cuda:0'), tensor([1], device='cuda:0'))\n",
            "==>Correct But Rejected: 288/383\n",
            "Error But Reje: 95/383\n",
            "=====================================================================\n",
            "==>Correct: 749/765, Test error: 16/765, Test Accuracy 2: 0.98\n",
            "Reference operating point:(tensor(0, device='cuda:0'), tensor(0.7566, device='cuda:0'), tensor([0], device='cuda:0')),(tensor(0, device='cuda:0'), tensor(0.7559, device='cuda:0'), tensor([1], device='cuda:0'))\n",
            "==>Correct But Rejected: 393/510\n",
            "Error But Reje: 117/510\n",
            "=====================================================================\n",
            "==>Correct: 506/510, Test error: 4/510, Test Accuracy 2: 0.99\n",
            "Reference operating point:(tensor(0, device='cuda:0'), tensor(0.8187, device='cuda:0'), tensor([0], device='cuda:0')),(tensor(1, device='cuda:0'), tensor(0.8186, device='cuda:0'), tensor([1], device='cuda:0'))\n",
            "==>Correct But Rejected: 636/765\n",
            "Error But Reje: 129/765\n",
            "=====================================================================\n",
            "==>Correct: 255/255, Test error: 0/255, Test Accuracy 2: 1.00\n",
            "Reference operating point:(tensor(0, device='cuda:0'), tensor(0.8823, device='cuda:0'), tensor([0], device='cuda:0')),(tensor(1, device='cuda:0'), tensor(0.8822, device='cuda:0'), tensor([1], device='cuda:0'))\n",
            "==>Correct But Rejected: 887/1020\n",
            "Error But Reje: 133/1020\n",
            "=====================================================================\n"
          ],
          "name": "stdout"
        }
      ]
    },
    {
      "cell_type": "code",
      "metadata": {
        "id": "gcEZoh6y4igV"
      },
      "source": [
        "#Test N% of most accurate datasets.\n",
        "from torch.autograd import Variable\n",
        "#from pytorch_lightning import metrics\n",
        "#valid_accuracy = metrics.Accuracy(compute_on_step=False)\n",
        "from operator import itemgetter\n",
        "import torch\n",
        "from torch.nn import functional as F\n",
        "\n",
        "def testRandom(model, test_loader, device):\n",
        "  test_cases = [1, 0.9, 0.8, 0.7, 0.6, 0.4, 0.2]\n",
        "  zipV = []\n",
        "  acc = []\n",
        "  correct = []\n",
        "  correctfromrejected = []\n",
        "  test_loss = 0\n",
        "  criterion = nn.CrossEntropyLoss()\n",
        "  model.eval()\n",
        "  with torch.no_grad():\n",
        "      for batch in test_loader:\n",
        "          \n",
        "          data, target = batch\n",
        "          data, target = data.to(device), target.to(device)\n",
        "          output = model(data)\n",
        "          probabilities = F.softmax(output, dim=1)\n",
        "          # Keep only the top class confidence for each sample\n",
        "          most_probable = torch.max(probabilities, dim=1)[0]\n",
        "          prediction = output.argmax(dim=1, keepdim=True)\n",
        "          temp = [i for i in zip(target,most_probable,prediction)]\n",
        "          #sortedTemp = sorted(temp, key=itemgetter(1), reverse=True)\n",
        "          test_loss += criterion(output.squeeze(), target.squeeze()).item()  # sum up batch loss\n",
        "          #prediction = output.argmax(dim=1, keepdim=True)\n",
        "          zipV.extend(temp)\n",
        "      for i in range(len(test_cases)):\n",
        "        N = int(test_cases[i]*len(zipV))\n",
        "        selForEval = zipV[0:N+1]\n",
        "        rejected = zipV[N+2:]\n",
        "        corectpred = 0\n",
        "        for k in range(len(selForEval)):\n",
        "            if selForEval[k][0] == selForEval[k][2]:\n",
        "                corectpred += 1\n",
        "        correct.append(corectpred)\n",
        "        acc.append(corectpred/len(selForEval))\n",
        "        correctfromrej = 0\n",
        "        for l in range(len(rejected)):\n",
        "            if rejected[l][0] == rejected[l][2]:\n",
        "                correctfromrej += 1\n",
        "        correctfromrejected.append(correctfromrej)\n",
        "        #print(f'Acc:{acc:.2f}%')\n",
        "        #test_loss /= len(test_loader.dataset)\n",
        "        trejected = len(zipV)-N\n",
        "        correctfreje = correctfromrejected[i]\n",
        "        print(f'==>Correct: {correct[i]}/{N}, Test error: {N-correct[i]}/{N}, Test Accuracy 2: {acc[i]:.2f}')\n",
        "        if test_cases[i]!= 1:\n",
        "          print(f'Reference operating point:{zipV[N+1]},{zipV[N+2]}')\n",
        "        print(f'==>Correct But Rejected: {correctfreje}/{trejected}')\n",
        "        print(f'Error But Reje: {trejected - correctfreje}/{trejected}')\n",
        "        print(f'=====================================================================')\n",
        "        #writer.add_scalar(f'Runs/Loss/test2', test_loss, epoch)\n",
        "        #writer.add_scalar(f'Runs/Accuracy/test2', acc, epoch)"
      ],
      "execution_count": null,
      "outputs": []
    },
    {
      "cell_type": "code",
      "metadata": {
        "id": "r9VvKkJh4igX",
        "colab": {
          "base_uri": "https://localhost:8080/"
        },
        "outputId": "f9d60e02-ce34-4f07-bb1b-ee8594e3502d"
      },
      "source": [
        "#model_ft = torch.load('model2.h5')\n",
        "testRandom(model_ft, dataloaders['test'], device)"
      ],
      "execution_count": null,
      "outputs": [
        {
          "output_type": "stream",
          "text": [
            "==>Correct: 1143/1275, Test error: 132/1275, Test Accuracy 2: 0.90\n",
            "==>Correct But Rejected: 0/0\n",
            "Error But Reje: 0/0\n",
            "=====================================================================\n",
            "==>Correct: 1029/1147, Test error: 118/1147, Test Accuracy 2: 0.90\n",
            "Reference operating point:(tensor(1, device='cuda:0'), tensor(0.7623, device='cuda:0'), tensor([1], device='cuda:0')),(tensor(0, device='cuda:0'), tensor(0.7628, device='cuda:0'), tensor([0], device='cuda:0'))\n",
            "==>Correct But Rejected: 113/128\n",
            "Error But Reje: 15/128\n",
            "=====================================================================\n",
            "==>Correct: 913/1020, Test error: 107/1020, Test Accuracy 2: 0.89\n",
            "Reference operating point:(tensor(0, device='cuda:0'), tensor(0.5516, device='cuda:0'), tensor([1], device='cuda:0')),(tensor(0, device='cuda:0'), tensor(0.8450, device='cuda:0'), tensor([0], device='cuda:0'))\n",
            "==>Correct But Rejected: 230/255\n",
            "Error But Reje: 25/255\n",
            "=====================================================================\n",
            "==>Correct: 801/892, Test error: 91/892, Test Accuracy 2: 0.90\n",
            "Reference operating point:(tensor(0, device='cuda:0'), tensor(0.6967, device='cuda:0'), tensor([0], device='cuda:0')),(tensor(0, device='cuda:0'), tensor(0.7522, device='cuda:0'), tensor([0], device='cuda:0'))\n",
            "==>Correct But Rejected: 341/383\n",
            "Error But Reje: 42/383\n",
            "=====================================================================\n",
            "==>Correct: 686/765, Test error: 79/765, Test Accuracy 2: 0.90\n",
            "Reference operating point:(tensor(1, device='cuda:0'), tensor(0.7251, device='cuda:0'), tensor([0], device='cuda:0')),(tensor(1, device='cuda:0'), tensor(0.8826, device='cuda:0'), tensor([1], device='cuda:0'))\n",
            "==>Correct But Rejected: 457/510\n",
            "Error But Reje: 53/510\n",
            "=====================================================================\n",
            "==>Correct: 468/510, Test error: 42/510, Test Accuracy 2: 0.92\n",
            "Reference operating point:(tensor(0, device='cuda:0'), tensor(0.7615, device='cuda:0'), tensor([0], device='cuda:0')),(tensor(1, device='cuda:0'), tensor(0.8319, device='cuda:0'), tensor([1], device='cuda:0'))\n",
            "==>Correct But Rejected: 674/765\n",
            "Error But Reje: 91/765\n",
            "=====================================================================\n",
            "==>Correct: 236/255, Test error: 19/255, Test Accuracy 2: 0.92\n",
            "Reference operating point:(tensor(1, device='cuda:0'), tensor(0.7824, device='cuda:0'), tensor([1], device='cuda:0')),(tensor(1, device='cuda:0'), tensor(0.5681, device='cuda:0'), tensor([1], device='cuda:0'))\n",
            "==>Correct But Rejected: 906/1020\n",
            "Error But Reje: 114/1020\n",
            "=====================================================================\n"
          ],
          "name": "stdout"
        }
      ]
    },
    {
      "cell_type": "markdown",
      "metadata": {
        "id": "uW2dNj2Q5knw"
      },
      "source": [
        "## **Generate Confusion Martix**"
      ]
    },
    {
      "cell_type": "code",
      "metadata": {
        "id": "wy049PWu9aJN"
      },
      "source": [
        "from sklearn.metrics import confusion_matrix\n",
        "import itertools\n",
        "import numpy as np\n",
        "import matplotlib.pyplot as plt\n",
        "\n",
        "def plot_confusion_matrix(cm, classes, normalize=False, title='Confusion matrix', cmap=plt.cm.Blues):\n",
        "    if normalize:\n",
        "        cm = cm.astype('float') / cm.sum(axis=1)[:, np.newaxis]\n",
        "        print(\"Normalized confusion matrix\")\n",
        "    else:\n",
        "        print('Confusion matrix, without normalization')\n",
        "\n",
        "    print(cm)\n",
        "    plt.imshow(cm, interpolation='nearest', cmap=cmap)\n",
        "    plt.title(title)\n",
        "    plt.colorbar()\n",
        "    tick_marks = np.arange(len(classes))\n",
        "    plt.xticks(tick_marks, classes, rotation=45)\n",
        "    plt.yticks(tick_marks, classes)\n",
        "\n",
        "    fmt = '.2f' if normalize else 'd'\n",
        "    thresh = cm.max() / 2.\n",
        "    for i, j in itertools.product(range(cm.shape[0]), range(cm.shape[1])):\n",
        "        plt.text(j, i, format(cm[i, j], fmt), horizontalalignment=\"center\", color=\"white\" if cm[i, j] > thresh else \"black\")\n",
        "\n",
        "    plt.tight_layout()\n",
        "    plt.ylabel('True label')\n",
        "    plt.xlabel('Predicted label')"
      ],
      "execution_count": null,
      "outputs": []
    },
    {
      "cell_type": "code",
      "metadata": {
        "id": "xqrCNnmrBCZU",
        "colab": {
          "base_uri": "https://localhost:8080/",
          "height": 634
        },
        "outputId": "7aca6efd-a111-459b-cc1f-4db3ec53bdc1"
      },
      "source": [
        "from sklearn.metrics import confusion_matrix\n",
        "nb_classes = 2\n",
        "# Initialize the prediction and label lists(tensors)\n",
        "predlist=torch.zeros(0,dtype=torch.long, device='cpu')\n",
        "lbllist=torch.zeros(0,dtype=torch.long, device='cpu')\n",
        "most_probable=torch.zeros(0,dtype=torch.long, device='cpu')\n",
        "\n",
        "predlist2=torch.zeros(0,dtype=torch.long, device='cpu')\n",
        "lbllist2=torch.zeros(0,dtype=torch.long, device='cpu')\n",
        "\n",
        "test_cases = 0.8\n",
        "zipV = []\n",
        "with torch.no_grad():\n",
        "    for i, (inputs, classes) in enumerate(dataloaders['test']):\n",
        "        inputs = inputs.to(device)\n",
        "        classes = classes.to(device)\n",
        "        outputs = model_ft(inputs)\n",
        "        _, preds = torch.max(outputs, 1)\n",
        "\n",
        "        predlist=torch.cat([predlist,preds.view(-1).cpu()])\n",
        "        lbllist=torch.cat([lbllist,classes.view(-1).cpu()])\n",
        "        most_probable = torch.cat([most_probable, F.softmax(outputs, dim=1).cpu()])\n",
        "        #torch.max (torch.tensor([[0.5571, 0.4429]]), 1)[0].item()\n",
        "        ###################################333\n",
        "        #probabilities = F.softmax(output, dim=1)\n",
        "        # Keep only the top class confidence for each sample\n",
        "        #prediction = output.argmax(dim=1, keepdim=True)\n",
        "        #temp = [i for i in zip(lbllist, predlist,most_probable)]\n",
        "        #sortedTemp = sorted(temp, key=itemgetter(2), reverse=True)\n",
        "        #prediction = output.argmax(dim=1, keepdim=True)\n",
        "        #zipV.extend(sortedTemp)\n",
        "        #zipV = sorted(zipV, key=itemgetter(2), reverse=True)\n",
        "          ####################################3\n",
        "        # Append batch prediction results\n",
        "temp, ind = torch.max(most_probable, dim=1)\n",
        "sorted, indices = torch.sort(temp, descending=True)\n",
        "N = int(test_cases*len(sorted))\n",
        "#predlist2= zipV[1][0:N+1]])\n",
        "#lbllist2= zipV[0][0:N+1]])\n",
        "predlist2 = predlist[indices][0:N+1]\n",
        "lbllist2 = lbllist[indices][0:N+1]\n",
        "cm = confusion_matrix(lbllist2.numpy(), predlist2.numpy())\n",
        "\n",
        "#import seaborn as sns\n",
        "#names = ('AeAl', 'NoAeAl')\n",
        "plt.rcParams.update({'font.size': 22})\n",
        "\n",
        "plt.figure(figsize=(10,8))\n",
        "#sns.heatmap(confusion_matrix(testGen.classes, y_pred), annot=True, fmt=\"d\")\n",
        "#sns.heatmap(confusion_matrix(testGen.classes, names), annot=True, fmt=\"d\")\n",
        "names = (\n",
        "    'Tiger'\n",
        "    ,'NonTiger'\n",
        ")\n",
        "\n",
        "plot_confusion_matrix(cm, names)"
      ],
      "execution_count": null,
      "outputs": [
        {
          "output_type": "stream",
          "text": [
            "Confusion matrix, without normalization\n",
            "[[534  20]\n",
            " [ 36 431]]\n"
          ],
          "name": "stdout"
        },
        {
          "output_type": "display_data",
          "data": {
            "image/png": "[encoded data removed]",
            "text/plain": [
              "<Figure size 720x576 with 2 Axes>"
            ]
          },
          "metadata": {
            "tags": [],
            "needs_background": "light"
          }
        }
      ]
    },
    {
      "cell_type": "code",
      "metadata": {
        "colab": {
          "base_uri": "https://localhost:8080/"
        },
        "id": "X2Y3Ckv6EfOU",
        "outputId": "0fc2d2bb-89f3-40b1-a0fd-45663c08ca51"
      },
      "source": [
        "from sklearn.metrics import classification_report\n",
        "print(classification_report(lbllist2.numpy(), predlist2.numpy()))"
      ],
      "execution_count": null,
      "outputs": [
        {
          "output_type": "stream",
          "text": [
            "              precision    recall  f1-score   support\n",
            "\n",
            "           0       0.94      0.96      0.95       554\n",
            "           1       0.96      0.92      0.94       467\n",
            "\n",
            "    accuracy                           0.95      1021\n",
            "   macro avg       0.95      0.94      0.94      1021\n",
            "weighted avg       0.95      0.95      0.95      1021\n",
            "\n"
          ],
          "name": "stdout"
        }
      ]
    },
    {
      "cell_type": "code",
      "metadata": {
        "colab": {
          "base_uri": "https://localhost:8080/",
          "height": 634
        },
        "id": "dLZ5PqGo5Y-j",
        "outputId": "6f9589b4-60ad-42d6-8337-10f4bc003e49"
      },
      "source": [
        "from sklearn.metrics import confusion_matrix\n",
        "nb_classes = 2\n",
        "test_cases = 0.8\n",
        "# Initialize the prediction and label lists(tensors)\n",
        "predlist=torch.zeros(0,dtype=torch.long, device='cpu')\n",
        "lbllist=torch.zeros(0,dtype=torch.long, device='cpu')\n",
        "\n",
        "with torch.no_grad():\n",
        "    for i, (inputs, classes) in enumerate(dataloaders['test']):\n",
        "        inputs = inputs.to(device)\n",
        "        classes = classes.to(device)\n",
        "        outputs = model_ft(inputs)\n",
        "        _, preds = torch.max(outputs, 1)\n",
        "\n",
        "        # Append batch prediction results\n",
        "        predlist=torch.cat([predlist,preds.view(-1).cpu()])\n",
        "        lbllist=torch.cat([lbllist,classes.view(-1).cpu()])\n",
        "\n",
        "N = int(test_cases*len(lbllist))\n",
        "cm = confusion_matrix(lbllist[0:N].numpy(), predlist[0:N].numpy())\n",
        "\n",
        "#import seaborn as sns\n",
        "\n",
        "#names = ('AeAl', 'NoAeAl')\n",
        "plt.figure(figsize=(10,8))\n",
        "#sns.heatmap(confusion_matrix(testGen.classes, y_pred), annot=True, fmt=\"d\")\n",
        "#sns.heatmap(confusion_matrix(testGen.classes, names), annot=True, fmt=\"d\")\n",
        "names = (\n",
        "    'Tiger'\n",
        "    ,'NonTiger'\n",
        ")\n",
        "\n",
        "plot_confusion_matrix(cm, names)"
      ],
      "execution_count": null,
      "outputs": [
        {
          "output_type": "stream",
          "text": [
            "Confusion matrix, without normalization\n",
            "[[506  49]\n",
            " [ 58 407]]\n"
          ],
          "name": "stdout"
        },
        {
          "output_type": "display_data",
          "data": {
            "image/png": "[encoded data removed]",
            "text/plain": [
              "<Figure size 720x576 with 2 Axes>"
            ]
          },
          "metadata": {
            "tags": [],
            "needs_background": "light"
          }
        }
      ]
    },
    {
      "cell_type": "code",
      "metadata": {
        "id": "IgKaMPb45iqQ",
        "colab": {
          "base_uri": "https://localhost:8080/"
        },
        "outputId": "762791f8-e14b-4032-b6e3-68a773f7a8a7"
      },
      "source": [
        "from sklearn.metrics import classification_report\n",
        "print(classification_report(lbllist.numpy(), predlist.numpy()))"
      ],
      "execution_count": null,
      "outputs": [
        {
          "output_type": "stream",
          "text": [
            "              precision    recall  f1-score   support\n",
            "\n",
            "           0       0.90      0.92      0.91       695\n",
            "           1       0.90      0.87      0.88       580\n",
            "\n",
            "    accuracy                           0.90      1275\n",
            "   macro avg       0.90      0.89      0.90      1275\n",
            "weighted avg       0.90      0.90      0.90      1275\n",
            "\n"
          ],
          "name": "stdout"
        }
      ]
    },
    {
      "cell_type": "markdown",
      "metadata": {
        "id": "aHodS1BkqXpb"
      },
      "source": [
        "## **ROC Curves**"
      ]
    },
    {
      "cell_type": "code",
      "metadata": {
        "colab": {
          "base_uri": "https://localhost:8080/",
          "height": 313
        },
        "id": "ezioADzvqdz8",
        "outputId": "0d16c752-5369-4321-c580-e5742c76f12f"
      },
      "source": [
        "\n",
        "# roc curve and auc\n",
        "from sklearn.datasets import make_classification\n",
        "from sklearn.linear_model import LogisticRegression\n",
        "from sklearn.model_selection import train_test_split\n",
        "from sklearn.metrics import roc_curve\n",
        "from sklearn.metrics import roc_auc_score\n",
        "from matplotlib import pyplot\n",
        "# generate 2 class dataset\n",
        "X, y = make_classification(n_samples=1000, n_classes=2, random_state=1)\n",
        "# split into train/test sets\n",
        "trainX, testX, trainy, testy = train_test_split(X, y, test_size=0.5, random_state=2)\n",
        "# generate a no skill prediction (majority class)\n",
        "ns_probs = [0 for _ in range(len(testy))]\n",
        "# fit a model\n",
        "model = LogisticRegression(solver='lbfgs')\n",
        "model.fit(trainX, trainy)\n",
        "# predict probabilities\n",
        "lr_probs = model.predict_proba(testX)\n",
        "# keep probabilities for the positive outcome only\n",
        "lr_probs = lr_probs[:, 1]\n",
        "# calculate scores\n",
        "ns_auc = roc_auc_score(testy, ns_probs)\n",
        "lr_auc = roc_auc_score(testy, lr_probs)\n",
        "# summarize scores\n",
        "print('No Skill: ROC AUC=%.3f' % (ns_auc))\n",
        "print('Logistic: ROC AUC=%.3f' % (lr_auc))\n",
        "# calculate roc curves\n",
        "ns_fpr, ns_tpr, _ = roc_curve(testy, ns_probs)\n",
        "lr_fpr, lr_tpr, _ = roc_curve(testy, lr_probs)\n",
        "# plot the roc curve for the model\n",
        "pyplot.plot(ns_fpr, ns_tpr, linestyle='--', label='No Skill')\n",
        "pyplot.plot(lr_fpr, lr_tpr, marker='.', label='Logistic')\n",
        "# axis labels\n",
        "pyplot.xlabel('False Positive Rate')\n",
        "pyplot.ylabel('True Positive Rate')\n",
        "# show the legend\n",
        "pyplot.legend()\n",
        "# show the plot\n",
        "pyplot.show()"
      ],
      "execution_count": null,
      "outputs": [
        {
          "output_type": "stream",
          "text": [
            "No Skill: ROC AUC=0.500\n",
            "Logistic: ROC AUC=0.903\n"
          ],
          "name": "stdout"
        },
        {
          "output_type": "display_data",
          "data": {
            "image/png": "[encoded data removed]",
            "text/plain": [
              "<Figure size 432x288 with 1 Axes>"
            ]
          },
          "metadata": {
            "tags": [],
            "needs_background": "light"
          }
        }
      ]
    },
    {
      "cell_type": "code",
      "metadata": {
        "id": "i2i0hRyZrCRm"
      },
      "source": [
        "b = []\n",
        "sm = nn.Softmax(dim = 1)\n",
        "a = torch.tensor([[1.23, 2.85]])\n",
        "output = sm(a)\n",
        "b.append(output[:,0].tolist())\n",
        "c = torch.tensor([[2.23, 1.85]])\n",
        "output = sm(c)\n",
        "b.append(output[:,0].tolist())"
      ],
      "execution_count": null,
      "outputs": []
    },
    {
      "cell_type": "markdown",
      "metadata": {
        "id": "mntw8AvcOyyD"
      },
      "source": [
        "# **AlexNet**\n",
        "---"
      ]
    },
    {
      "cell_type": "code",
      "metadata": {
        "id": "5P_WG392O5uP"
      },
      "source": [
        "device = torch.device(\"cuda:0\" if torch.cuda.is_available() else \"cpu\")\n",
        "model_ft = models.alexnet(pretrained=True)\n",
        "#set_parameter_requires_grad(model_ft, feature_extract)\n",
        "num_ftrs = model_ft.classifier[6].in_features\n",
        "model_ft.classifier[6] = nn.Linear(num_ftrs,2)\n",
        "model_ft = model_ft.to(device)\n",
        "criterion = nn.CrossEntropyLoss()\n",
        "# Observe that all parameters are being optimized\n",
        "optimizer_ft = optim.SGD(model_ft.parameters(), lr=0.001, momentum=0.9)\n",
        "# Decay LR by a factor of 0.1 every 7 epochs\n",
        "exp_lr_scheduler = lr_scheduler.StepLR(optimizer_ft, step_size=7, gamma=0.1)\n"
      ],
      "execution_count": null,
      "outputs": []
    },
    {
      "cell_type": "code",
      "metadata": {
        "id": "pjpSeh_F7cDo"
      },
      "source": [
        "# Train the model\n",
        "net_trained = train_model(model_ft, criterion, optimizer_ft, exp_lr_scheduler, num_epochs=25)\n",
        "torch.save(net_trained,'model1.h5')"
      ],
      "execution_count": null,
      "outputs": []
    },
    {
      "cell_type": "code",
      "metadata": {
        "id": "dQpNU5HJTtMD",
        "colab": {
          "base_uri": "https://localhost:8080/",
          "height": 103,
          "referenced_widgets": [
            "4754df7a95ee4720988c28d937873d89",
            "172e3072fba44d3dbb1aa1b83ef90493",
            "1d942b05be744fada473e02f98baa45f",
            "fb071039e70042ff9bc07f03a224d70e",
            "e428aee9af6d4b2f828ff94e257fc510",
            "2cff163fb59d4d8ea03c660f8ad6dcaf",
            "7378f6cc3eb24c2a885fda907f4e6925",
            "fd35c2bab3cd4eedac82f114a52dd399"
          ]
        },
        "outputId": "6875c18d-8ade-4b6d-9a37-7482a949cc5b"
      },
      "source": [
        "model_ft = models.alexnet(pretrained=True)\n",
        "feats_list = list(model_ft.features)\n",
        "new_feats_list = []\n",
        "for feat in feats_list:\n",
        "    new_feats_list.append(feat)\n",
        "    if isinstance(feat, nn.Conv2d):\n",
        "        new_feats_list.append(nn.Dropout(p=0.5, inplace=True))\n",
        "# modify convolution layers\n",
        "model_ft.features = nn.Sequential(*new_feats_list)\n",
        "#num_ftrs = model_ft.classifier[0].out_features\n",
        "model_ft.classifier[0] = nn.Dropout (p = 0.4)\n",
        "model_ft.classifier[3] = nn.Dropout (p = 0.4)\n",
        "num_ftrs = model_ft.classifier[6].in_features\n",
        "model_ft.classifier[6] = nn.Linear(num_ftrs,2)\n",
        "model_ft = model_ft.to(device)\n",
        "criterion = nn.CrossEntropyLoss()\n",
        "# Observe that all parameters are being optimized\n",
        "optimizer_ft = optim.SGD(model_ft.parameters(), lr=0.001, momentum=0.9)\n",
        "# Decay LR by a factor of 0.1 every 7 epochs\n",
        "exp_lr_scheduler = lr_scheduler.StepLR(optimizer_ft, step_size=7, gamma=0.1)\n"
      ],
      "execution_count": null,
      "outputs": [
        {
          "output_type": "stream",
          "text": [
            "Downloading: \"https://download.pytorch.org/models/alexnet-owt-4df8aa71.pth\" to /root/.cache/torch/hub/checkpoints/alexnet-owt-4df8aa71.pth\n"
          ],
          "name": "stderr"
        },
        {
          "output_type": "display_data",
          "data": {
            "application/vnd.jupyter.widget-view+json": {
              "model_id": "4754df7a95ee4720988c28d937873d89",
              "version_minor": 0,
              "version_major": 2
            },
            "text/plain": [
              "HBox(children=(FloatProgress(value=0.0, max=244418560.0), HTML(value='')))"
            ]
          },
          "metadata": {
            "tags": []
          }
        },
        {
          "output_type": "stream",
          "text": [
            "\n"
          ],
          "name": "stdout"
        }
      ]
    },
    {
      "cell_type": "code",
      "metadata": {
        "id": "jpA97L-yPw30",
        "colab": {
          "base_uri": "https://localhost:8080/"
        },
        "outputId": "89c3e05a-f28a-4992-ff3c-e0b53eaa5dbd"
      },
      "source": [
        "# Train the model\n",
        "net_trained = train_model(model_ft, criterion, optimizer_ft, exp_lr_scheduler, num_epochs=25)\n",
        "torch.save(net_trained,'model2.h5')"
      ],
      "execution_count": null,
      "outputs": [
        {
          "output_type": "stream",
          "text": [
            "Epoch 0/24\n",
            "----------\n",
            "train Loss: 0.7233 Acc: 0.6957\n",
            "test Loss: 0.5373 Acc: 0.8016\n",
            "Test error: 253; test accuracy: 0.8015686274509803\n",
            "\n",
            "Epoch 1/24\n",
            "----------\n",
            "train Loss: 0.4731 Acc: 0.7844\n",
            "test Loss: 0.4759 Acc: 0.8157\n",
            "Test error: 235; test accuracy: 0.8156862745098039\n",
            "\n",
            "Epoch 2/24\n",
            "----------\n",
            "train Loss: 0.4355 Acc: 0.8064\n",
            "test Loss: 0.4843 Acc: 0.7976\n",
            "Test error: 258; test accuracy: 0.7976470588235294\n",
            "\n",
            "Epoch 3/24\n",
            "----------\n",
            "train Loss: 0.4112 Acc: 0.8221\n",
            "test Loss: 0.4951 Acc: 0.7725\n",
            "Test error: 290; test accuracy: 0.7725490196078431\n",
            "\n",
            "Epoch 4/24\n",
            "----------\n",
            "train Loss: 0.3915 Acc: 0.8279\n",
            "test Loss: 0.4271 Acc: 0.8424\n",
            "Test error: 201; test accuracy: 0.8423529411764705\n",
            "\n",
            "Epoch 5/24\n",
            "----------\n",
            "train Loss: 0.3776 Acc: 0.8317\n",
            "test Loss: 0.3944 Acc: 0.8690\n",
            "Test error: 167; test accuracy: 0.8690196078431373\n",
            "\n",
            "Epoch 6/24\n",
            "----------\n",
            "train Loss: 0.3550 Acc: 0.8487\n",
            "test Loss: 0.4497 Acc: 0.8267\n",
            "Test error: 221; test accuracy: 0.8266666666666667\n",
            "\n",
            "Epoch 7/24\n",
            "----------\n",
            "train Loss: 0.3447 Acc: 0.8426\n",
            "test Loss: 0.4132 Acc: 0.8298\n",
            "Test error: 217; test accuracy: 0.8298039215686274\n",
            "\n",
            "Epoch 8/24\n",
            "----------\n",
            "train Loss: 0.3317 Acc: 0.8546\n",
            "test Loss: 0.4083 Acc: 0.8345\n",
            "Test error: 211; test accuracy: 0.8345098039215686\n",
            "\n",
            "Epoch 9/24\n",
            "----------\n",
            "train Loss: 0.3163 Acc: 0.8622\n",
            "test Loss: 0.4051 Acc: 0.8416\n",
            "Test error: 202; test accuracy: 0.8415686274509804\n",
            "\n",
            "Epoch 10/24\n",
            "----------\n",
            "train Loss: 0.3181 Acc: 0.8597\n",
            "test Loss: 0.3923 Acc: 0.8400\n",
            "Test error: 204; test accuracy: 0.84\n",
            "\n",
            "Epoch 11/24\n",
            "----------\n",
            "train Loss: 0.3198 Acc: 0.8611\n",
            "test Loss: 0.3960 Acc: 0.8353\n",
            "Test error: 210; test accuracy: 0.8352941176470587\n",
            "\n",
            "Epoch 12/24\n",
            "----------\n",
            "train Loss: 0.3187 Acc: 0.8660\n",
            "test Loss: 0.3892 Acc: 0.8376\n",
            "Test error: 207; test accuracy: 0.8376470588235294\n",
            "\n",
            "Epoch 13/24\n",
            "----------\n",
            "train Loss: 0.3054 Acc: 0.8677\n",
            "test Loss: 0.3858 Acc: 0.8392\n",
            "Test error: 204; test accuracy: 0.8392156862745098\n",
            "\n",
            "Epoch 14/24\n",
            "----------\n",
            "train Loss: 0.3093 Acc: 0.8620\n",
            "test Loss: 0.3824 Acc: 0.8392\n",
            "Test error: 204; test accuracy: 0.8392156862745098\n",
            "\n",
            "Epoch 15/24\n",
            "----------\n",
            "train Loss: 0.3014 Acc: 0.8699\n",
            "test Loss: 0.3806 Acc: 0.8384\n",
            "Test error: 206; test accuracy: 0.8384313725490196\n",
            "\n",
            "Epoch 16/24\n",
            "----------\n",
            "train Loss: 0.3025 Acc: 0.8693\n",
            "test Loss: 0.3789 Acc: 0.8431\n",
            "Test error: 200; test accuracy: 0.8431372549019608\n",
            "\n",
            "Epoch 17/24\n",
            "----------\n",
            "train Loss: 0.3055 Acc: 0.8669\n",
            "test Loss: 0.3791 Acc: 0.8431\n",
            "Test error: 200; test accuracy: 0.8431372549019608\n",
            "\n",
            "Epoch 18/24\n",
            "----------\n",
            "train Loss: 0.3132 Acc: 0.8640\n",
            "test Loss: 0.3804 Acc: 0.8447\n",
            "Test error: 197; test accuracy: 0.8447058823529412\n",
            "\n",
            "Epoch 19/24\n",
            "----------\n",
            "train Loss: 0.2920 Acc: 0.8783\n",
            "test Loss: 0.3801 Acc: 0.8416\n",
            "Test error: 202; test accuracy: 0.8415686274509804\n",
            "\n",
            "Epoch 20/24\n",
            "----------\n",
            "train Loss: 0.3009 Acc: 0.8673\n",
            "test Loss: 0.3790 Acc: 0.8416\n",
            "Test error: 202; test accuracy: 0.8415686274509804\n",
            "\n",
            "Epoch 21/24\n",
            "----------\n",
            "train Loss: 0.3070 Acc: 0.8654\n",
            "test Loss: 0.3792 Acc: 0.8416\n",
            "Test error: 202; test accuracy: 0.8415686274509804\n",
            "\n",
            "Epoch 22/24\n",
            "----------\n",
            "train Loss: 0.2955 Acc: 0.8734\n",
            "test Loss: 0.3792 Acc: 0.8416\n",
            "Test error: 202; test accuracy: 0.8415686274509804\n",
            "\n",
            "Epoch 23/24\n",
            "----------\n",
            "train Loss: 0.2973 Acc: 0.8701\n",
            "test Loss: 0.3794 Acc: 0.8416\n",
            "Test error: 202; test accuracy: 0.8415686274509804\n",
            "\n",
            "Epoch 24/24\n",
            "----------\n",
            "train Loss: 0.3005 Acc: 0.8695\n",
            "test Loss: 0.3794 Acc: 0.8400\n",
            "Test error: 204; test accuracy: 0.84\n",
            "\n",
            "Training complete in 12m 38s\n",
            "Best val Acc: 0.869020\n"
          ],
          "name": "stdout"
        }
      ]
    },
    {
      "cell_type": "markdown",
      "metadata": {
        "id": "E8_EzG8HWCyH"
      },
      "source": [
        "# **B-LRP**\n",
        "---"
      ]
    },
    {
      "cell_type": "markdown",
      "metadata": {
        "id": "QqPbSxVLjhUL"
      },
      "source": [
        "## **Vgg-PreTrianed**"
      ]
    },
    {
      "cell_type": "code",
      "metadata": {
        "id": "fUHtsW2sjhUh"
      },
      "source": [
        "#For Pretrained VGG Model\n",
        "import warnings\n",
        "warnings.filterwarnings(\"ignore\")\n",
        "\n",
        "import numpy as np\n",
        "import pandas as pd\n",
        "import time\n",
        "import h5py\n",
        "from scipy.ndimage.interpolation import rotate\n",
        "\n",
        "import matplotlib\n",
        "import matplotlib.pyplot as plt\n",
        "import matplotlib.image as mpimg\n",
        "import matplotlib.gridspec as gridspec\n",
        "\n",
        "import seaborn as sns\n",
        "%matplotlib inline\n",
        "\n",
        "import torch\n",
        "import torchvision\n",
        "from torchvision import datasets, models, transforms\n",
        "from torch.autograd import Variable\n",
        "import torch.nn as nn\n",
        "import torch.nn.functional as F\n",
        "import torch.optim as optim\n",
        "from torch.utils.data.sampler import SubsetRandomSampler\n",
        "from torch.optim import lr_scheduler\n",
        "import os\n",
        "import copy"
      ],
      "execution_count": null,
      "outputs": []
    },
    {
      "cell_type": "code",
      "metadata": {
        "id": "MDYzntogjhUi"
      },
      "source": [
        "!unzip Mosq.zip\n",
        "!rm Mosq.zip"
      ],
      "execution_count": null,
      "outputs": []
    },
    {
      "cell_type": "code",
      "metadata": {
        "id": "EaBwz1nujhUj"
      },
      "source": [
        "!mv  Mosq/val  Mosq/test"
      ],
      "execution_count": null,
      "outputs": []
    },
    {
      "cell_type": "code",
      "metadata": {
        "id": "bJRfe3KNjhUj"
      },
      "source": [
        "loss_ = []\n",
        "test_accuracy = []\n",
        "test_error = []"
      ],
      "execution_count": null,
      "outputs": []
    },
    {
      "cell_type": "code",
      "metadata": {
        "id": "NuPaHLmsjhUk"
      },
      "source": [
        "# Data augmentation and normalization for training\n",
        "# Just normalization for validation\n",
        "data_transforms = {\n",
        "    'train': transforms.Compose([\n",
        "        transforms.RandomResizedCrop(224),\n",
        "        transforms.RandomHorizontalFlip(),\n",
        "        transforms.ToTensor(),\n",
        "        transforms.Normalize([0.485, 0.456, 0.406], [0.229, 0.224, 0.225])\n",
        "    ]),\n",
        "    'test': transforms.Compose([\n",
        "        transforms.Resize([224, 224]),\n",
        "        transforms.ToTensor(),\n",
        "        transforms.Normalize(mean=[0.485, 0.456, 0.406], std=[0.229, 0.224, 0.225])\n",
        "    ]),\n",
        "}\n",
        "\n",
        "data_dir = 'Mosq/'\n",
        "image_datasets = {x: datasets.ImageFolder(os.path.join(data_dir, x),\n",
        "                                          data_transforms[x])\n",
        "                  for x in ['train', 'test']}\n",
        "dataloaders = {x: torch.utils.data.DataLoader(image_datasets[x], batch_size=64,\n",
        "                                             shuffle=True, num_workers=4)\n",
        "              for x in ['train', 'test']}\n",
        "dataset_sizes = {x: len(image_datasets[x]) for x in ['train', 'test']}\n",
        "class_names = image_datasets['train'].classes\n",
        "\n",
        "device = torch.device(\"cuda:0\" if torch.cuda.is_available() else \"cpu\")"
      ],
      "execution_count": null,
      "outputs": []
    },
    {
      "cell_type": "code",
      "metadata": {
        "id": "RYYObBhfjhUl"
      },
      "source": [
        "#from torch.utils.tensorboard import SummaryWriter\n",
        "#from math import sqrt\n",
        "#writer = SummaryWriter()\n",
        "def train_model(model, criterion, optimizer, scheduler, num_epochs=25):\n",
        "    since = time.time()\n",
        "\n",
        "    best_model_wts = copy.deepcopy(model.state_dict())\n",
        "    best_acc = 0.0\n",
        "\n",
        "    for epoch in range(num_epochs):\n",
        "        print('Epoch {}/{}'.format(epoch, num_epochs - 1))\n",
        "        print('-' * 10)\n",
        "\n",
        "        # Each epoch has a training and validation phase\n",
        "        for phase in ['train', 'test']:\n",
        "            if phase == 'train':\n",
        "                model.train()  # Set model to training mode\n",
        "            else:\n",
        "                model.eval()   # Set model to evaluate mode\n",
        "\n",
        "            running_loss = 0.0\n",
        "            running_corrects = 0\n",
        "\n",
        "            # Iterate over data.\n",
        "            for inputs, labels in dataloaders[phase]:\n",
        "                inputs = inputs.to(device)\n",
        "                labels = labels.to(device)\n",
        "\n",
        "                # zero the parameter gradients\n",
        "                optimizer.zero_grad()\n",
        "\n",
        "                # forward\n",
        "                # track history if only in train\n",
        "                with torch.set_grad_enabled(phase == 'train'):\n",
        "                    outputs = model(inputs)\n",
        "                    _, preds = torch.max(outputs, 1)\n",
        "                    loss = criterion(outputs, labels)\n",
        "\n",
        "                    # backward + optimize only if in training phase\n",
        "                    if phase == 'train':\n",
        "                        loss.backward()\n",
        "                        optimizer.step()\n",
        "                # statistics\n",
        "                running_loss += loss.item() * inputs.size(0)\n",
        "                running_corrects += torch.sum(preds == labels.data)\n",
        "            if phase == 'train':\n",
        "                scheduler.step()\n",
        "            \n",
        "            epoch_loss = running_loss / dataset_sizes[phase]\n",
        "            epoch_acc = running_corrects.double() / dataset_sizes[phase]\n",
        "            print('{} Loss: {:.4f} Acc: {:.4f}'.format(\n",
        "                phase, epoch_loss, epoch_acc))\n",
        "\n",
        "            #if phase == 'train':\n",
        "                #writer.add_scalar(f'Runs/Loss/train', epoch_loss, epoch)\n",
        "                #writer.add_scalar(f'Runs/Acc/train', epoch_acc, epoch)\n",
        "            if phase == 'test':\n",
        "                #temp_labels = np.array(labels.cpu())\n",
        "                #temp_pred = np.array(preds.cpu())\n",
        "                #test_accuracy.append(np.mean(temp_labels.data == temp_pred))\n",
        "                #print(f'====>dataset_sizes {phase}={dataset_sizes[phase]}')\n",
        "                #print(f'====>test_accuracy {phase}={test_accuracy[-1]}')\n",
        "                test_accuracy.append(epoch_acc)\n",
        "                test_error.append(int(dataset_sizes[phase]*(1-test_accuracy[-1])))\n",
        "                print('Test error: {}; test accuracy: {}'.format(test_error[-1], test_accuracy[-1]))\n",
        "                #writer.add_scalar(f'Runs/Loss/test', epoch_loss, epoch)\n",
        "                #writer.add_scalar(f'Runs/Accuracy/test', epoch_acc, epoch)\n",
        "            # deep copy the model\n",
        "            if phase == 'test' and epoch_acc > best_acc:\n",
        "                best_acc = epoch_acc\n",
        "                best_model_wts = copy.deepcopy(model.state_dict())\n",
        "\n",
        "        print()\n",
        "        #Tesst accuracy when it can only predict N% of the most accurate prediction\n",
        "        #test(model, dataloaders['test'], device, epoch)\n",
        "    time_elapsed = time.time() - since\n",
        "    print('Training complete in {:.0f}m {:.0f}s'.format(\n",
        "        time_elapsed // 60, time_elapsed % 60))\n",
        "    print('Best val Acc: {:4f}'.format(best_acc))\n",
        "\n",
        "    #load best model weights\n",
        "    model.load_state_dict(best_model_wts)\n",
        "    return model"
      ],
      "execution_count": null,
      "outputs": []
    },
    {
      "cell_type": "code",
      "metadata": {
        "id": "TLyog8Tw0HYP"
      },
      "source": [
        "net_trained = models.vgg16(pretrained=True)\n",
        "feats_list = list(net_trained.features)\n",
        "new_feats_list = []\n",
        "for feat in feats_list:\n",
        "    new_feats_list.append(feat)\n",
        "    if isinstance(feat, nn.Conv2d):\n",
        "        new_feats_list.append(nn.Dropout(p=0.5, inplace=True))\n",
        "# modify convolution layers\n",
        "net_trained.features = nn.Sequential(*new_feats_list)\n",
        "net_trained.classifier[2] = nn.Dropout (p = 0.4)\n",
        "net_trained.classifier[5] = nn.Dropout (p = 0.4)\n",
        "num_ftrs = net_trained.classifier[6].in_features\n",
        "# Here the size of each output sample is set to 2.\n",
        "# Alternatively, it can be generalized to nn.Linear(num_ftrs, len(class_names)).\n",
        "net_trained.classifier[6] = nn.Linear(num_ftrs, 2)\n",
        "net_trained = net_trained.to(device)\n",
        "criterion = nn.CrossEntropyLoss()\n",
        "# Observe that all parameters are being optimized\n",
        "optimizer_ft = optim.SGD(net_trained.parameters(), lr=0.001, momentum=0.9)\n",
        "# Decay LR by a factor of 0.1 every 7 epochs\n",
        "exp_lr_scheduler = lr_scheduler.StepLR(optimizer_ft, step_size=7, gamma=0.1)\n",
        "\n",
        "net_trained = train_model(net_trained, criterion, optimizer_ft, exp_lr_scheduler, num_epochs=25)\n",
        "\n",
        "f = 'model.h5'\n",
        "torch.save(net_trained.state_dict(), f)\n",
        "#torch.save(net_trained,'model.h5')"
      ],
      "execution_count": null,
      "outputs": []
    },
    {
      "cell_type": "code",
      "metadata": {
        "id": "oCRL3T_ZlAJ2"
      },
      "source": [
        "model = models.vgg16(pretrained=True)\n",
        "num_ftrs = model.classifier[6].in_features\n",
        "model.classifier[6] = nn.Linear(num_ftrs, 2)\n",
        "model.load_state_dict(torch.load('model.h5'))\n",
        "model.eval()\n",
        "\n",
        "model.to(device)"
      ],
      "execution_count": null,
      "outputs": []
    },
    {
      "cell_type": "code",
      "metadata": {
        "id": "SdT2ql4cm6GS"
      },
      "source": [
        "# --------------------------------------------------------------\n",
        "# LRP Composite rule\n",
        "# --------------------------------------------------------------\n",
        "# More information at http://www.heatmapping.org/tutorial/\n",
        "\n",
        "def LRP_CMP(image, class_id, model, dropout = True, verbose = False, device = 'cpu'):\n",
        "\n",
        "    mean = torch.Tensor([0.485, 0.456, 0.406]).reshape(1,-1,1,1).to(device)  # We define mean and std for data normalisation\n",
        "    std  = torch.Tensor([0.229, 0.224, 0.225]).reshape(1,-1,1,1).to(device)\n",
        "\n",
        "    image = image.to(device)\n",
        "    \n",
        "    if not dropout:\n",
        "        model.eval()\n",
        "    else:\n",
        "        model.train()\n",
        "\n",
        "    X = (image.transpose(2,1).transpose(0,1).view([1,3,224,224]) - mean) / std\n",
        "    \n",
        "    layers = list(model._modules['features']) + toconv(list(model._modules['classifier']))\n",
        "    L = len(layers)\n",
        "    \n",
        "    A = [X]+[None]*L\n",
        "    with torch.no_grad():\n",
        "      for l in range(L): A[l+1] = layers[l].forward(A[l]).to(device)\n",
        "    \n",
        "    scores = np.array(A[-1].data.view(-1).cpu())\n",
        "    ind = np.argsort(-scores)\n",
        "    \n",
        "    if verbose:\n",
        "        for i in ind[:5]:\n",
        "            print('%20s (%3d): %6.3f'%(imgclasses[i][:20],i,scores[i]))\n",
        "\n",
        "    T = torch.FloatTensor((1.0*(np.arange(2)==class_id).reshape([1,2,1,1]))).to(device)\n",
        "    R = [None] * L + [(A[-1]*T)]\n",
        "\n",
        "    for l in range(1,L)[::-1]:\n",
        "\n",
        "        A[l] = A[l].requires_grad_(True)\n",
        "\n",
        "        if isinstance(layers[l],torch.nn.MaxPool2d): layers[l] = torch.nn.AvgPool2d(2)\n",
        "        \n",
        "        if isinstance(layers[l],torch.nn.Conv2d) or isinstance(layers[l],torch.nn.AvgPool2d):\n",
        "            \n",
        "            if l <= 16:       rho = lambda p: p + 0.25*p.clamp(min=0); incr = lambda z: z+1e-9\n",
        "            if 17 <= l <= 30: rho = lambda p: p;                       incr = lambda z: z+1e-9+0.25*((z**2).mean()**.5).data\n",
        "            if l >= 31:       rho = lambda p: p;                       incr = lambda z: z+1e-9\n",
        "\n",
        "            z = incr(newlayer(layers[l],rho).forward(A[l]))                     # step 1\n",
        "            s = (R[l+1]/z).data                                                 # step 2\n",
        "            (z*s).sum().backward(); c = A[l].grad                               # step 3\n",
        "            R[l] = (A[l]*c).data                                                # step 4\n",
        "            \n",
        "        else:\n",
        "            if not dropout:\n",
        "              R[l] = R[l+1]\n",
        "            else:\n",
        "              if layers[l].children().__class__.__name__.startswith('Dropout'):\n",
        "                  incr = lambda z: z+1e-9\n",
        "                  z = incr(layers[l].forward(A[l], freeze = True))\n",
        "                  s = (R[l+1]/z).data                                           # step 2\n",
        "                  (z*s).sum().backward(); c = A[l].grad                         # step 3\n",
        "                  R[l] = (A[l]*c).data                                          # step 4\n",
        "              else:\n",
        "                  R[l] = R[l+1]\n",
        "\n",
        "    A[0] = A[0].requires_grad_(True)\n",
        "\n",
        "    with torch.no_grad():\n",
        "      lb = (A[0]*0+(0-mean)/std)\n",
        "      hb = (A[0]*0+(1-mean)/std)\n",
        "    \n",
        "    lb = lb.requires_grad_(True)\n",
        "    hb = hb.requires_grad_(True)\n",
        "\n",
        "    z = layers[0].forward(A[0]) + 1e-9                                          # step 1 (a)\n",
        "    z -= newlayer(layers[0],lambda p: p.clamp(min=0)).forward(lb)               # step 1 (b)\n",
        "    z -= newlayer(layers[0],lambda p: p.clamp(max=0)).forward(hb)               # step 1 (c)\n",
        "    s = (R[1]/z).data                                                           # step 2\n",
        "    (z*s).sum().backward(); c,cp,cm = A[0].grad,lb.grad,hb.grad                 # step 3\n",
        "    #print(c,cp,cm)\n",
        "    R[0] = (A[0]*c+lb*cp+hb*cm).data\n",
        "    \n",
        "    return R[0].data\n",
        "\n",
        "# --------------------------------------------------------------\n",
        "# Clone a layer and pass its parameters through the function g\n",
        "# --------------------------------------------------------------\n",
        "\n",
        "def newlayer(layer,g):\n",
        "\n",
        "    layer = copy.deepcopy(layer)\n",
        "\n",
        "    try: layer.weight = nn.Parameter(g(layer.weight))\n",
        "    except AttributeError: pass\n",
        "\n",
        "    try: layer.bias   = nn.Parameter(g(layer.bias))\n",
        "    except AttributeError: pass\n",
        "\n",
        "    return layer\n",
        "# --------------------------------------------------------------\n",
        "# convert VGG classifier's dense layers to convolutional layers\n",
        "# --------------------------------------------------------------\n",
        "\n",
        "def toconv(layers):\n",
        "\n",
        "    newlayers = []\n",
        "\n",
        "    for i,layer in enumerate(layers):\n",
        "\n",
        "        if isinstance(layer,nn.Linear):\n",
        "\n",
        "            newlayer = None\n",
        "\n",
        "            if i == 0:\n",
        "                m,n = 512,layer.weight.shape[0]\n",
        "                newlayer = nn.Conv2d(m,n,7)\n",
        "                newlayer.weight = nn.Parameter(layer.weight.reshape(n,m,7,7))\n",
        "\n",
        "            else:\n",
        "                m,n = layer.weight.shape[1],layer.weight.shape[0]\n",
        "                newlayer = nn.Conv2d(m,n,1)\n",
        "                newlayer.weight = nn.Parameter(layer.weight.reshape(n,m,1,1))\n",
        "\n",
        "            newlayer.bias = nn.Parameter(layer.bias)\n",
        "\n",
        "            newlayers += [newlayer]\n",
        "\n",
        "        else:\n",
        "            newlayers += [layer]\n",
        "\n",
        "    return newlayers\n",
        "# --------------------------------------------------------------\n",
        "# Function for MinMax Normalisation of Relevances\n",
        "# --------------------------------------------------------------\n",
        "def normalise_relevance(relevance_matrix):\n",
        "    a = relevance_matrix.min()\n",
        "    b = relevance_matrix.max()\n",
        "    \n",
        "    if (a == 0.) & (b == 0.):\n",
        "        return relevance_matrix\n",
        "    if (a > 0.):\n",
        "      return (relevance_matrix >0.)*relevance_matrix/b\n",
        "    if (b < 0.):\n",
        "      return - (relevance_matrix <=0.)*relevance_matrix/a\n",
        "    \n",
        "    return (relevance_matrix >0.)*relevance_matrix/b  - (relevance_matrix <=0.)*relevance_matrix/a"
      ],
      "execution_count": null,
      "outputs": []
    },
    {
      "cell_type": "code",
      "metadata": {
        "id": "KIZhJYRpw78R"
      },
      "source": [
        "import cv2\n",
        "img_name = '3.png'\n",
        "img = np.array(cv2.imread(img_name))[...,::-1]/255.0\n",
        "\n",
        "dim = (224,224)\n",
        "img = cv2.resize(img, dim)\n",
        "#plt.imshow(img)\n",
        "\n",
        "img = torch.tensor(img).float().to(device)\n",
        "class_ind = 0\n",
        "\n",
        "#mean = torch.Tensor([0.485, 0.456, 0.406]).reshape(1,-1,1,1).to(device)  # We define mean and std for data normalisation\n",
        "#std  = torch.Tensor([0.229, 0.224, 0.225]).reshape(1,-1,1,1).to(device)\n",
        "\n",
        "#X = (img.transpose(2,1).transpose(0,1).view([1,3,224,224]) - mean) / std\n",
        "#X"
      ],
      "execution_count": null,
      "outputs": []
    },
    {
      "cell_type": "code",
      "metadata": {
        "id": "hZOGPR2dxidU"
      },
      "source": [
        "from tqdm import tqdm_notebook as tqdm\n",
        "N_MC = 100 # Number of samples from the posterior\n",
        "model.to(device)\n",
        "LRPs = torch.zeros([N_MC, 224, 224])\n",
        "Standard_LRP = torch.zeros([224, 224])\n",
        "\n",
        "counter = 0\n",
        "\n",
        "for i in tqdm(range(N_MC)):\n",
        "  LRPs[i] = LRP_CMP(img, class_ind, model, dropout = True, device = device)[0].sum(axis = 0).data\n",
        "  LRPs[i][LRPs[i] != LRPs[i]] = 0.\n",
        "\n",
        "Standard_LRP = LRP_CMP(img, class_ind, model, dropout = False, device = device)[0].sum(axis = 0).data\n",
        "Standard_LRP[Standard_LRP != Standard_LRP] = 0."
      ],
      "execution_count": null,
      "outputs": []
    },
    {
      "cell_type": "code",
      "metadata": {
        "id": "uHiPCVxQyFF1"
      },
      "source": [
        "#plt.rcParams.update(plt.rcParamsDefault)\n",
        "plt.rcParams.update({'font.size': 20})\n",
        "alphas = [5,25,50,75,95]\n",
        "\n",
        "LRPs = LRPs.to('cpu')\n",
        "fig, ax = plt.subplots(1, 3, figsize=(15.6,3))\n",
        "\n",
        "ax[0].imshow(img.cpu(), cmap = 'gray')\n",
        "ax[0].title.set_text('Original Image')\n",
        "ax[0].xaxis.set_major_locator(plt.NullLocator())\n",
        "ax[0].yaxis.set_major_locator(plt.NullLocator())\n",
        "\n",
        "ax[1].imshow(normalise_relevance(Standard_LRP.cpu()), cmap = 'seismic')\n",
        "ax[1].title.set_text('Standard LRP')\n",
        "ax[1].xaxis.set_major_locator(plt.NullLocator())\n",
        "ax[1].yaxis.set_major_locator(plt.NullLocator())\n",
        "\n",
        "ax[2].imshow(normalise_relevance(LRPs.mean(axis  = 0)), cmap = 'seismic')\n",
        "ax[2].title.set_text('Expected LRP')\n",
        "ax[2].xaxis.set_major_locator(plt.NullLocator())\n",
        "ax[2].yaxis.set_major_locator(plt.NullLocator())\n",
        "\n",
        "fig, ax = plt.subplots(1, len(alphas), figsize=(14,6))\n",
        "\n",
        "cols = ['{}-th Percentile'.format(col) for col in alphas]\n",
        "\n",
        "for axe, col in zip(ax, cols):\n",
        "    axe.set_title(col)\n",
        "\n",
        "for i in range(len(alphas)):\n",
        "    ax[i].imshow(normalise_relevance(np.percentile(LRPs.reshape([N_MC, - 1]).numpy(), alphas[i], axis = 0).reshape([224,224])), cmap='seismic')\n",
        "    ax[i].xaxis.set_major_locator(plt.NullLocator())\n",
        "    ax[i].yaxis.set_major_locator(plt.NullLocator())\n",
        "plt.show()"
      ],
      "execution_count": null,
      "outputs": []
    },
    {
      "cell_type": "code",
      "metadata": {
        "id": "TZhxoc410r-e"
      },
      "source": [
        ""
      ],
      "execution_count": null,
      "outputs": []
    },
    {
      "cell_type": "markdown",
      "metadata": {
        "id": "lyvdzVrU0su-"
      },
      "source": [
        "## **Generate Histograms**"
      ]
    },
    {
      "cell_type": "code",
      "metadata": {
        "id": "U0RRSJ0U0su_"
      },
      "source": [
        "from __future__ import print_function\n",
        "import math\n",
        "import matplotlib.pyplot as plt\n",
        "import os\n",
        "\n",
        "import torch.nn as nn\n",
        "import torch.nn.functional as F\n",
        "\n",
        "import torch\n",
        "import torch.optim as optim\n",
        "from torchvision import datasets, transforms\n",
        "from torch.autograd import Variable\n",
        "\n",
        "import warnings\n",
        "warnings.simplefilter(action='ignore')\n",
        "\n",
        "def apply_dropout(m):\n",
        "    for each_module in m.children():\n",
        "        if each_module.__class__.__name__.startswith('Dropout'):\n",
        "            each_module.train()\n",
        "    return m\n",
        "\n",
        "def enable_dropout(m):\n",
        "  for each_module in m.modules():\n",
        "    if each_module.__class__.__name__.startswith('Dropout'):\n",
        "      each_module.train()\n",
        "\n",
        "def uncertainties(p):\n",
        "    aleatoric = np.mean(p*(1-p), axis=0)\n",
        "    epistemic = np.mean(p**2, axis=0) - np.mean(p, axis=0)**2\n",
        "    return aleatoric, epistemic\n"
      ],
      "execution_count": null,
      "outputs": []
    },
    {
      "cell_type": "code",
      "metadata": {
        "id": "DWn5kFo00svB"
      },
      "source": [
        "#----------------------------CHOOSE RANDOM IMAGE----------------------------------------------\n",
        "for test_images, test_labels in dataloaders['test']:  \n",
        "    sample_image = test_images[2]\n",
        "    sample_label = test_labels[2]\n",
        "\n",
        "T = 100 # how many times to apply drop-out at test time"
      ],
      "execution_count": null,
      "outputs": []
    },
    {
      "cell_type": "code",
      "metadata": {
        "id": "Z2qrPZ6f0svG"
      },
      "source": [
        "def imshow(inp, title=None):\n",
        "    \"\"\"Imshow for Tensor.\"\"\"\n",
        "    inp = inp.numpy().transpose((1, 2, 0))\n",
        "    mean = np.array([0.485, 0.456, 0.406])\n",
        "    std = np.array([0.229, 0.224, 0.225])\n",
        "    inp = std * inp + mean\n",
        "    inp = np.clip(inp, 0, 1)\n",
        "    \n",
        "    plt.figure(figsize=(8, 4))\n",
        "    plt.imshow(inp)\n",
        "    if title is not None:\n",
        "        plt.title(title)\n",
        "    plt.axis('off')\n",
        "    #plt.pause(0.001)  # pause a bit so that plots are updated"
      ],
      "execution_count": null,
      "outputs": []
    },
    {
      "cell_type": "code",
      "metadata": {
        "id": "C-rYRkYh0svI"
      },
      "source": [
        "import matplotlib.pyplot as plt\n",
        "import numpy as np\n",
        "import seaborn as sns\n",
        "import scipy.stats as stats\n",
        "#sns.set(rc={'figure.figsize':(14,6)})\n",
        "#plt.gcf().set_size_inches(11.7, 8.27)\n",
        "def plothist(grdtruth, prediction, flag):\n",
        "  #for i in prediction:\n",
        "  mean = np.mean(prediction)\n",
        "  std = np.std(prediction)\n",
        "  if std>=0.1:\n",
        "    dec = \"Uncertain\"\n",
        "  else:\n",
        "    dec = \"Certain\"\n",
        "  if flag == 1 and std <= 0.1:\n",
        "    sns.displot(prediction, kind=\"kde\", bw_adjust=.6, fill=True, color= '#ff6c70', label = 'Correct', legend=True)\n",
        "  elif flag == 1 and std > 0.1:\n",
        "    sns.displot(prediction, kind=\"kde\", bw_adjust=.6, fill=True, color= '#ff6c70', label = 'Correct', legend=True)\n",
        "  else:\n",
        "    #sns.displot(grdtruth, kind=\"kde\", bw_adjust=.6, fill=True, color= '#ff6c70', label = 'Grd Truth')\n",
        "    #sns.displot(prediction, kind=\"kde\", bw_adjust=.6, fill=True, color= '#00DBFF', label = 'Pred.')\n",
        "    sns.displot([grdtruth, prediction], kind=\"kde\", bw_adjust=.6, fill=True,\n",
        "                color= ['#ff6c70',  '#00DBFF'], legend=True)\n",
        "  #sns.displot(ntpred, kind=\"kde\", bw_adjust=.6, fill=True, color='#ff6c70', label = 'incorrect', legend=True)\n",
        "  \n",
        "  plt.title(\"$μ$: {:.3f} $σ$: {:.3f}  {}\".format(mean, std, dec), loc='left', fontsize=22)\n",
        "  #plt.text(\"$σ$: {:.3f}  {}\".format(std, dec), fontsize=14, ha='center', va='center')\n",
        "  #plt.title(\"p(Tiger | image)\", fontsize=20)\n",
        "  plt.xlabel(\"Observations\", fontsize=20)\n",
        "  plt.ylabel(\"Density\", fontsize=20)\n",
        "  #plt.legend()\n",
        "  #sns.displot(prediction[1], kind=\"kde\", bw_adjust=.6, fill=True, color='#EF9A9A')\n",
        "  #sns.plt.show()"
      ],
      "execution_count": null,
      "outputs": []
    },
    {
      "cell_type": "code",
      "metadata": {
        "id": "7AyyoGN90svJ"
      },
      "source": [
        "import numpy as np\n",
        "pred = []\n",
        "#----------------------------PREDICT-------------------------------------------\n",
        "def predict(model, image, label, T=T):\n",
        "    enable_dropout(model)\n",
        "    # prepare label\n",
        "    label = label.item()\n",
        "    # prepare image\n",
        "    #image = image.flatten()\n",
        "    image = image.unsqueeze(0).to(device)\n",
        "    #image.to(device)\n",
        "    standard_output = model(image)\n",
        "    _, standard_prediction = standard_output.max(0)\n",
        "    model.train()\n",
        "    # each vector will consist of T elements- the class-specific predictive probability from each model\n",
        "    zero_p_hat= []\n",
        "    one_p_hat= []\n",
        "\n",
        "    #for idx, (images, labels) in enumerate(test_lloader):\n",
        "            #images = images.to(device)\n",
        "            #labels = labels.to(device)\n",
        "    # predict stochastic dropout model T times\n",
        "    for t in range(T):\n",
        "        enable_dropout(model) \n",
        "        output = model(Variable(image))\n",
        "        output = output.detach().cpu()\n",
        "        output_prob1 = np.exp(output) #convert to predictive probabilities\n",
        "        output_prob = F.softmax(output_prob1, dim=1)\n",
        "        zero_p_hat.append(output_prob[0][0].item()) # P( c = 0 | image)\n",
        "        one_p_hat.append(output_prob[0][1].item()) # P( c = 1 | image)\n",
        "\n",
        "    # mean prediction\n",
        "    zero_var = np.var(zero_p_hat)\n",
        "    one_var = np.var(one_p_hat)\n",
        "\n",
        "    #pred = zero_p_hat\n",
        "    \n",
        "    # will be a list of 10 elements, the variance of each class's predictions across T models\n",
        "    class_specific_uncertainties = [zero_var, one_var]\n",
        "    variance_of_class_specific_predictions = class_specific_uncertainties[label]\n",
        "    p_hat_lists = [zero_p_hat, one_p_hat]\n",
        "    \n",
        "\n",
        "    return standard_prediction[0].item(), variance_of_class_specific_predictions, p_hat_lists[label], p_hat_lists"
      ],
      "execution_count": null,
      "outputs": []
    },
    {
      "cell_type": "code",
      "metadata": {
        "id": "toN5TZGP0svK"
      },
      "source": [
        "# Dropout at test-time for uncertainty estimation\n",
        "vgg1_models = torch.load('model1.h5',map_location={'cuda:0': 'cpu'})\n",
        "vgg1_models.to(device)\n",
        "prediction, var_uncertainty, samplePred, allSamples = predict(vgg1_models, sample_image, sample_label)\n",
        "\n",
        "print(f'The model predicts: {prediction} ')\n",
        "print(f'The ground truth: {sample_label}')\n",
        "print(f'The number of samplings: {T}')\n",
        "print(f'Variance of class-specific predictions across the models: {var_uncertainty}')\n",
        "#print(f'Aleatoric and epistemic uncertainty: {aleatoric}')\n",
        "#print(f'Epistemic uncertainty: {epistemic}')\n",
        "#print(f'Moodels predictive probability: {_}')\n",
        "#imshow(inp = sample_image, title = sample_label)\n",
        "lbl = sample_label.item()\n",
        "imshow(inp = sample_image, title = lbl)\n",
        "if prediction == sample_label:\n",
        "  flag = 1\n",
        "else:\n",
        "  flag = 0\n",
        "plothist(allSamples[lbl], allSamples[prediction], flag)"
      ],
      "execution_count": null,
      "outputs": []
    },
    {
      "cell_type": "code",
      "metadata": {
        "colab": {
          "base_uri": "https://localhost:8080/"
        },
        "id": "aq_NxFyI0svM",
        "outputId": "4fa2c002-202e-4db1-c330-ee6270e0a077"
      },
      "source": [
        "#----------------------------CHOOSE RANDOM IMAGE----------------------------------------------\n",
        "for test_images, test_labels in dataloaders['test']:  \n",
        "    sample_image = test_images[2]\n",
        "    sample_label = test_labels[2]\n",
        "\n",
        "T = 100 \n",
        "sample_label"
      ],
      "execution_count": null,
      "outputs": [
        {
          "output_type": "execute_result",
          "data": {
            "text/plain": [
              "tensor(1)"
            ]
          },
          "metadata": {
            "tags": []
          },
          "execution_count": 15
        }
      ]
    },
    {
      "cell_type": "code",
      "metadata": {
        "id": "b4iMhbWe0svO"
      },
      "source": [
        "# Dropout at test-time for uncertainty estimation\n",
        "vgg2_models = torch.load('model2.h5',map_location={'cuda:0': 'cpu'})\n",
        "vgg2_models.to(device)\n",
        "prediction, var_uncertainty, samplePred, allSamples = predict(vgg2_models, sample_image, sample_label)\n",
        "\n",
        "print(f'The model predicts: {prediction} ')\n",
        "print(f'The ground truth: {sample_label}')\n",
        "print(f'The number of samplings: {T}')\n",
        "print(f'Variance of class-specific predictions across the models: {var_uncertainty}')\n",
        "#print(f'Aleatoric and epistemic uncertainty: {aleatoric}')\n",
        "#print(f'Epistemic uncertainty: {epistemic}')\n",
        "#print(f'Moodels predictive probability: {_}')\n",
        "#imshow(inp = sample_image, title = sample_label)\n",
        "lbl = sample_label.item()\n",
        "imshow(inp = sample_image, title = lbl)\n",
        "if prediction == sample_label:\n",
        "  flag = 1\n",
        "else:\n",
        "  flag = 0\n",
        "plothist(allSamples[lbl], allSamples[prediction], flag)"
      ],
      "execution_count": null,
      "outputs": []
    },
    {
      "cell_type": "markdown",
      "metadata": {
        "id": "r-BmrM74T_E1"
      },
      "source": [
        "# **Experiment With Mosquito (AL)**\n",
        "---"
      ]
    },
    {
      "cell_type": "code",
      "metadata": {
        "id": "KKoiK31jT_FA"
      },
      "source": [
        "import random\n",
        "import os\n",
        "import numpy as np\n",
        "from PIL import Image\n",
        "\n",
        "import matplotlib.pyplot as plt\n",
        "import matplotlib.image as mpimg\n",
        "%matplotlib inline\n",
        "\n",
        "import torch\n",
        "import torch.nn as nn\n",
        "import torch.optim as optim\n",
        "from torch.optim import lr_scheduler\n",
        "from torch.autograd import Variable\n",
        "import torch.nn.functional as F\n",
        "\n",
        "from torch.utils.data import DataLoader, Dataset\n",
        "from torch.utils.data.sampler import SubsetRandomSampler\n",
        "\n",
        "import torchvision\n",
        "import torchvision.transforms as transforms\n",
        "from torchvision import utils, models\n",
        "\n",
        "def is_image(filename):\n",
        "    return any(filename.endswith(extension) for extension in [\".jpg\", \".jpeg\", \".png\"])\n"
      ],
      "execution_count": null,
      "outputs": []
    },
    {
      "cell_type": "code",
      "metadata": {
        "id": "833FBk9cT_FK"
      },
      "source": [
        "!unzip Mosq.zip\n",
        "!rm Mosq.zip"
      ],
      "execution_count": null,
      "outputs": []
    },
    {
      "cell_type": "code",
      "metadata": {
        "id": "9umpicvXIZou"
      },
      "source": [
        "!mv Mosq/val Mosq/test"
      ],
      "execution_count": null,
      "outputs": []
    },
    {
      "cell_type": "code",
      "metadata": {
        "id": "gG7P9fR-xKv9"
      },
      "source": [
        "!mv Mosq/train/Tiger Mosq/train/0_Tiger \n",
        "!mv Mosq/train/vNonTiger Mosq/train/1_vNonTiger\n",
        "!mv Mosq/test/Tiger Mosq/test/0_Tiger \n",
        "!mv Mosq/test/vNonTiger Mosq/test/1_vNonTiger"
      ],
      "execution_count": null,
      "outputs": []
    },
    {
      "cell_type": "code",
      "metadata": {
        "id": "qe8me4lFT_FP"
      },
      "source": [
        "class IndexedDataset(Dataset):\n",
        "\n",
        "    def __init__(self, dir_path, transform=None, test=False):\n",
        "        '''\n",
        "        Args:\n",
        "        - dir_path (string): path to the directory containing images\n",
        "        - transform (torchvision.transforms.) (default=None)\n",
        "        - test (boolean): True for labeled images, False otherwise (default=False)\n",
        "        '''\n",
        "\n",
        "        self.dir_path = dir_path\n",
        "        self.transform = transform\n",
        "        \n",
        "        image_filenames = []\n",
        "        for (dirpath, dirnames, filenames) in os.walk(dir_path):\n",
        "            image_filenames += [os.path.join(dirpath, file) for file in filenames if is_image(file)]\n",
        "        self.image_filenames = image_filenames    \n",
        "        \n",
        "        # We assume that in the beginning, the entire dataset is unlabeled, unless it is flagged as 'test':\n",
        "        if test:\n",
        "            # The image's label is given by the first digit of its subdirectory's name\n",
        "            # E.g. the label for the image file `./dogs/train/6_great_dane/n02109047_22481.jpg` is 6\n",
        "            self.labels = [int(f[len(self.dir_path)+1]) for f in self.image_filenames]\n",
        "            self.unlabeled_mask = np.zeros(len(self.image_filenames))\n",
        "        else:\n",
        "            self.labels =[0]*len(self.image_filenames)\n",
        "            self.unlabeled_mask = np.ones(len(self.image_filenames))\n",
        "\n",
        "    def __len__(self):\n",
        "        return len(self.image_filenames)\n",
        "\n",
        "    def __getitem__(self, idx):\n",
        "\n",
        "        img_name = self.image_filenames[idx]\n",
        "        image = Image.open(img_name).convert('RGB')\n",
        "\n",
        "        if self.transform:\n",
        "            image = self.transform(image)\n",
        "\n",
        "        return image, self.labels[idx], idx\n",
        "    \n",
        "    # Display the image [idx] and its filename\n",
        "    def display(self, idx):\n",
        "        img_name = self.image_filenames[idx]\n",
        "        print(img_name)\n",
        "        img=mpimg.imread(img_name)\n",
        "        imgplot = plt.imshow(img)\n",
        "        plt.show()\n",
        "        return\n",
        "    \n",
        "    # Set the label of image [idx] to 'new_label'\n",
        "    def update_label(self, idx, new_label):\n",
        "        self.labels[idx] = new_label\n",
        "        self.unlabeled_mask[idx] = 0\n",
        "        return\n",
        "    \n",
        "    # Set the label of image [idx] to that read from its filename\n",
        "    def label_from_filename(self, idx):\n",
        "        self.labels[idx] = int(self.image_filenames[idx][len(self.dir_path)+1])\n",
        "        self.unlabeled_mask[idx] = 0\n",
        "        return"
      ],
      "execution_count": null,
      "outputs": []
    },
    {
      "cell_type": "code",
      "metadata": {
        "id": "UURTIhSjsz9S"
      },
      "source": [
        "def enable_dropout(m):\n",
        "  for each_module in m.modules():\n",
        "    if each_module.__class__.__name__.startswith('Dropout'):\n",
        "      each_module.train()\n",
        "\n",
        "def mcdropout_query(model, device, data_loader, query_size=5):\n",
        "    confidences = []\n",
        "    indices = []\n",
        "    pred = []\n",
        "    T = 10\n",
        "    print(len(data_loader))\n",
        "    with torch.no_grad():\n",
        "        for batch in data_loader:\n",
        "            data, _, idx = batch\n",
        "            enable_dropout(model)\n",
        "            #model.train()\n",
        "            for i in range(T):\n",
        "                logits = model(data.to(device))\n",
        "                probabilities = F.softmax(logits, dim=1)\n",
        "                # Keep only the top class confidence for each sample\n",
        "                most_probable = torch.max(probabilities, dim=1)[0]\n",
        "                #temp = [i for i in zip(idx, most_probable)]\n",
        "                #sumindex = [sum(elts) for elts in zip(*lisolis)]\n",
        "                pred.append(most_probable.cpu().tolist())\n",
        "\n",
        "            tempstd = [np.std(elts) for elts in zip(*pred)]\n",
        "            confidences.extend(tempstd)\n",
        "            indices.extend(idx.tolist())\n",
        "    #print(f'tempstd: {tempstd}')    \n",
        "    #conf = np.asarray(tempstd)\n",
        "    conf = np.asarray(confidences)\n",
        "    indices = list(map(int, indices))\n",
        "    ind = np.asarray(indices)\n",
        "    sorted_pool = np.argsort(-conf)\n",
        "    #sorted_pool = conf.argsort()[::-1]\n",
        "    #sorted_pool = conf.argsort()\n",
        "    #print(f'sorted_pool: {sorted_pool}')\n",
        "    #print(f'Index: {ind}')\n",
        "    return ind[sorted_pool][0:query_size]\n",
        "\n",
        "def least_confidence_query(model, device, data_loader, query_size=5):\n",
        "\n",
        "    confidences = []\n",
        "    indices = []\n",
        "    \n",
        "    model.eval()\n",
        "    print(len(data_loader))\n",
        "    with torch.no_grad():\n",
        "        for batch in data_loader:\n",
        "        \n",
        "            data, _, idx = batch\n",
        "            logits = model(data.to(device))\n",
        "            probabilities = F.softmax(logits, dim=1)\n",
        "            \n",
        "            # Keep only the top class confidence for each sample\n",
        "            most_probable = torch.max(probabilities, dim=1)[0]\n",
        "            confidences.extend(most_probable.cpu().tolist())\n",
        "            indices.extend(idx.tolist())\n",
        "            \n",
        "    conf = np.asarray(confidences)\n",
        "    ind = np.asarray(indices)\n",
        "    sorted_pool = np.argsort(conf)\n",
        "\n",
        "    return ind[sorted_pool][0:query_size]\n",
        "\n",
        "def random_query(data_loader, query_size=5):\n",
        "    sample_idx = []\n",
        "    # Because the data has already been shuffled inside the data loader,\n",
        "    # we can simply return the `query_size` first samples from it\n",
        "    print(len(data_loader))\n",
        "    for batch in data_loader:\n",
        "        \n",
        "        _, _, idx = batch\n",
        "        sample_idx.extend(idx.tolist())\n",
        "\n",
        "        if len(sample_idx) >= query_size:\n",
        "            break\n",
        "    return sample_idx[0:query_size]\n",
        "\n"
      ],
      "execution_count": null,
      "outputs": []
    },
    {
      "cell_type": "code",
      "metadata": {
        "id": "YjX5dx4XT_FZ"
      },
      "source": [
        "'''\n",
        "Queries the oracle (user, if `interactive` is set to True) for  labels for'query_size' \n",
        "samples using 'query_strategy'\n",
        "\n",
        "'''\n",
        "def query_the_oracle(model, device, dataset, query_size=5, query_strategy='random', \n",
        "                     interactive=False, pool_size=0, batch_size=128, num_workers=2):\n",
        "    \n",
        "    unlabeled_idx = np.nonzero(dataset.unlabeled_mask)[0]\n",
        "    \n",
        "    # Select a pool of samples to query from\n",
        "    if pool_size > 0:    \n",
        "        pool_idx = random.sample(range(1, len(unlabeled_idx)), pool_size)\n",
        "        pool_loader = DataLoader(dataset, batch_size=batch_size, num_workers=num_workers,\n",
        "                                              sampler=SubsetRandomSampler(unlabeled_idx[pool_idx]))\n",
        "    else:\n",
        "        pool_loader = DataLoader(dataset, batch_size=batch_size, num_workers=num_workers,\n",
        "                                              sampler=SubsetRandomSampler(unlabeled_idx))\n",
        "\n",
        "    if query_strategy == 'least_confidence':\n",
        "        sample_idx = least_confidence_query(model, device, pool_loader, query_size)\n",
        "    elif query_strategy == 'mcdropout':\n",
        "        sample_idx = mcdropout_query(model, device, pool_loader, query_size)\n",
        "    else:\n",
        "        sample_idx = random_query(pool_loader, query_size)\n",
        "    \n",
        "    #print(f'lenght of sample index {len(sample_idx)}')\n",
        "    # Query the samples, one at a time\n",
        "    for sample in sample_idx:\n",
        "        \n",
        "        if interactive:\n",
        "            dataset.display(sample)\n",
        "            print(\"What is the class of this image?\")\n",
        "            new_label = int(input())\n",
        "            dataset.update_label(sample, new_label)\n",
        "            \n",
        "        else:\n",
        "            dataset.label_from_filename(sample)\n",
        "def train(model, device, train_loader, optimizer, criterion, datalen):\n",
        "    model.train()\n",
        "    running_loss = 0.0\n",
        "    running_corrects = 0\n",
        "    for batch in train_loader:\n",
        "        data, target, _ = batch\n",
        "        data, target = data.to(device), target.to(device)\n",
        "        optimizer.zero_grad()\n",
        "        with torch.set_grad_enabled(True):\n",
        "            outputs = model(data)\n",
        "            _, preds = torch.max(outputs, dim=1)\n",
        "            loss = criterion(outputs, target)\n",
        "            loss.backward()\n",
        "            optimizer.step()\n",
        "        running_loss += loss.item() * data.size(0)\n",
        "        running_corrects += torch.sum(preds == target.data)\n",
        "        #print(f'Correct predicts: {torch.sum(preds == target.data)}/{datalen}, {32*len(train_loader)}')\n",
        "    epoch_loss = running_loss / datalen\n",
        "    epoch_acc = running_corrects.double() / datalen\n",
        "    print('Loss: {:.3f} Acc: {:.3f}'.format(epoch_loss, epoch_acc))\n",
        "    writer.add_scalar(f'Runs/Loss/train', epoch_loss, datalen)\n",
        "    writer.add_scalar(f'Runs/Accuracy/ttrain', epoch_acc, datalen)\n",
        "    \n",
        "    return epoch_loss, epoch_acc\n",
        "\n",
        "def test(model, device, test_loader, criterion, display=False):\n",
        "    model.eval()\n",
        "    test_loss = 0\n",
        "    n_correct = 0\n",
        "    one = torch.ones(1, 1).to(device)\n",
        "    zero = torch.zeros(1, 1).to(device)\n",
        "    with torch.no_grad():\n",
        "        for batch in test_loader:\n",
        "            data, target, _ = batch\n",
        "            data, target = data.to(device), target.to(device)\n",
        "            output = model(data)\n",
        "            #test_loss += criterion(output.squeeze(), target.squeeze()).item()  # sum up batch loss\n",
        "            test_loss += criterion(output, target).item()\n",
        "            prediction = output.argmax(dim=1, keepdim=True)\n",
        "            torch.where(output.squeeze()<0.5, zero, one)  # get the index of the max log-probability\n",
        "            n_correct += prediction.eq(target.view_as(prediction)).sum().item()\n",
        "\n",
        "    test_loss /= len(test_loader.dataset) \n",
        "    if display:\n",
        "        print(f'==> Test Accuracy: {(100. * n_correct / len(test_loader.dataset)):2f}, Loss: {test_loss:2f}, Len: {len(test_loader.dataset)}')\n",
        "        #print('Accuracy on the test set: ', (100. * n_correct / len(test_loader.dataset)))\n",
        "    return test_loss, (100. * n_correct / len(test_loader.dataset))"
      ],
      "execution_count": null,
      "outputs": []
    },
    {
      "cell_type": "code",
      "metadata": {
        "id": "I7yBCShvmfPH"
      },
      "source": [
        "!rm -rf runs/"
      ],
      "execution_count": null,
      "outputs": []
    },
    {
      "cell_type": "code",
      "metadata": {
        "id": "tdWBnNFCT_Fd"
      },
      "source": [
        "from torch.utils.tensorboard import SummaryWriter\n",
        "from math import sqrt\n",
        "\n",
        "writer = SummaryWriter()\n",
        "\n",
        "np.random.seed(42)\n",
        "random.seed(42)\n",
        "torch.backends.cudnn.deterministic = True\n",
        "torch.backends.cudnn.benchmark = False\n",
        "torch.manual_seed(42)\n",
        "\n",
        "train_dir = './Mosq/train'\n",
        "test_dir = './Mosq/test'\n",
        "\n",
        "device = torch.device(\"cuda\")\n",
        "\n",
        "train_set = IndexedDataset(train_dir, \n",
        "                           transform=transforms.Compose([\n",
        "                                                         transforms.Resize((224, 224)),\n",
        "                                                         transforms.ToTensor()]), test=False)\n",
        "test_set = IndexedDataset(test_dir, transform=transforms.Compose([transforms.Resize((224, 224)), \n",
        "                                                                transforms.ToTensor()]), test=True) \n",
        "test_loader = DataLoader(test_set, batch_size=10, shuffle=True, num_workers=2)\n",
        "\n",
        "print('Train set size: ', len(train_set))\n",
        "print('Test set size: ', len(test_set))\n",
        "\n",
        "testLen = len(test_set)\n",
        "# Number of classes in the classification problem\n",
        "n_classes = 2\n",
        "query_size = 100\n",
        "batch_size = 50\n",
        "\n",
        "#classifier = models.vgg16(pretrained=True)\n",
        "#num_ftrs = classifier.classifier[6].in_features\n",
        "#classifier.classifier[6] = nn.Linear(num_ftrs, n_classes)\n",
        "#classifier = classifier.to(device) \n",
        "classifier = models.vgg16(pretrained=True)\n",
        "feats_list = list(classifier.features)\n",
        "new_feats_list = []\n",
        "for feat in feats_list:\n",
        "    new_feats_list.append(feat)\n",
        "    if isinstance(feat, nn.Conv2d):\n",
        "        new_feats_list.append(nn.Dropout(p=0.5, inplace=True))\n",
        "# modify convolution layers\n",
        "classifier.features = nn.Sequential(*new_feats_list)\n",
        "classifier.classifier[2] = nn.Dropout (p = 0.4)\n",
        "classifier.classifier[5] = nn.Dropout (p = 0.4)\n",
        "num_ftrs = classifier.classifier[6].in_features\n",
        "classifier.classifier[6] = nn.Linear(num_ftrs, 2)\n",
        "classifier = classifier.to(device) \n",
        "criterion = nn.CrossEntropyLoss()\n",
        "optimizer = optim.SGD(classifier.parameters(), lr=0.001, momentum=0.9, dampening=0, weight_decay=0.0001)\n",
        "        \n",
        "# Label the initial subset\n",
        "query_the_oracle(classifier, device, train_set, query_size=query_size, interactive=False, query_strategy='random',\n",
        "                 pool_size=0)\n",
        "\n",
        "# How many times should the oracle be queried\n",
        "#num_queries = 5\n",
        "\n",
        "# Pre-train on the initial subset\n",
        "labeled_idx = np.where(train_set.unlabeled_mask == 0)[0]\n",
        "labeled_loader = DataLoader(train_set, batch_size=batch_size, num_workers=2, \n",
        "                            sampler=SubsetRandomSampler(labeled_idx))\n",
        "previous_test_acc = 0\n",
        "current_test_acc = 1\n",
        "datalen = len(labeled_idx)\n",
        "while current_test_acc > previous_test_acc:\n",
        "    previous_test_acc = current_test_acc\n",
        "    train_loss, epoch_acc = train(classifier, device, labeled_loader, optimizer, criterion, datalen)\n",
        "    _, current_test_acc = test(classifier, device, test_loader, criterion)\n",
        "\n",
        "loss, testacc, = test(classifier, device, test_loader, criterion, display=True)\n",
        "#while testacc < 90:\n",
        "#for i in range(5):\n",
        "while len(labeled_idx) < len(train_set):\n",
        "    # Query the oracle for more labels\n",
        "    query_size = 50\n",
        "    query_the_oracle(classifier, device, train_set, query_size=query_size, query_strategy='least_confidence', interactive=False, pool_size=0)\n",
        "    # Train the model on the data that has been labeled so far:\n",
        "    labeled_idx = np.where(train_set.unlabeled_mask == 0)[0]\n",
        "    labeled_loader = DataLoader(train_set, batch_size=batch_size, num_workers=2, sampler=SubsetRandomSampler(labeled_idx))\n",
        "    previous_test_acc = 0\n",
        "    current_test_acc = 1\n",
        "    datalen = len(labeled_idx)\n",
        "    #print(f'labelled index2:{datalen}')\n",
        "    while current_test_acc > previous_test_acc:\n",
        "        previous_test_acc = current_test_acc\n",
        "        train_loss, epoch_acc = train(classifier, device, labeled_loader, optimizer, criterion, datalen)\n",
        "        loss, current_test_acc = test(classifier, device, test_loader, criterion)\n",
        "        testacc = current_test_acc\n",
        "    #print(f'curr.test.acc:{current_test_acc:2f} trainlen:{len(labeled_idx)}')\n",
        "    writer.add_scalar(f'Runs/Loss/test', loss, len(labeled_idx))\n",
        "    writer.add_scalar(f'Runs/Accuracy/test', current_test_acc, len(labeled_idx))\n",
        "    # Test the model:\n",
        "    test(classifier, device, test_loader, criterion, display=True)\n",
        "print('Done!')"
      ],
      "execution_count": null,
      "outputs": []
    },
    {
      "cell_type": "code",
      "metadata": {
        "id": "U2UXZduOiBus"
      },
      "source": [
        "%load_ext tensorboard\n",
        "%tensorboard --logdir runs/"
      ],
      "execution_count": null,
      "outputs": []
    },
    {
      "cell_type": "code",
      "metadata": {
        "id": "50Xclh-WjMkS",
        "colab": {
          "base_uri": "https://localhost:8080/"
        },
        "outputId": "99ec66a5-a16b-495e-a89d-99e8162515ca"
      },
      "source": [
        "!zip -r runs.zip runs/"
      ],
      "execution_count": null,
      "outputs": [
        {
          "output_type": "stream",
          "text": [
            "  adding: runs/ (stored 0%)\n",
            "  adding: runs/Dec15_09-40-26_cf3b73d43944/ (stored 0%)\n",
            "  adding: runs/Dec15_09-40-26_cf3b73d43944/events.out.tfevents.1608025227.cf3b73d43944.56.0 (deflated 5%)\n",
            "  adding: runs/Dec15_15-21-22_cf3b73d43944/ (stored 0%)\n",
            "  adding: runs/Dec15_15-21-22_cf3b73d43944/events.out.tfevents.1608045683.cf3b73d43944.18086.0 (deflated 71%)\n",
            "  adding: runs/Dec15_12-41-22_cf3b73d43944/ (stored 0%)\n",
            "  adding: runs/Dec15_12-41-22_cf3b73d43944/events.out.tfevents.1608036082.cf3b73d43944.56.2 (deflated 71%)\n",
            "  adding: runs/Dec15_09-45-33_cf3b73d43944/ (stored 0%)\n",
            "  adding: runs/Dec15_09-45-33_cf3b73d43944/events.out.tfevents.1608025533.cf3b73d43944.56.1 (deflated 71%)\n"
          ],
          "name": "stdout"
        }
      ]
    }
  ]
}